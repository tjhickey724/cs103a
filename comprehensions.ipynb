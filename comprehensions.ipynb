{
 "cells": [
  {
   "cell_type": "code",
   "execution_count": null,
   "metadata": {},
   "outputs": [],
   "source": []
  },
  {
   "cell_type": "code",
   "execution_count": 2,
   "metadata": {},
   "outputs": [],
   "source": [
    "import csv"
   ]
  },
  {
   "cell_type": "code",
   "execution_count": 3,
   "metadata": {},
   "outputs": [
    {
     "name": "stdout",
     "output_type": "stream",
     "text": [
      "258000\n"
     ]
    }
   ],
   "source": [
    "with open('data/baby-names.csv') as csvfile:\n",
    "    reader = csv.DictReader(csvfile)\n",
    "    data = [row for row in reader]\n",
    "print(len(data))"
   ]
  },
  {
   "cell_type": "code",
   "execution_count": null,
   "metadata": {},
   "outputs": [],
   "source": []
  },
  {
   "cell_type": "code",
   "execution_count": 4,
   "metadata": {},
   "outputs": [],
   "source": [
    "data[:4]\n",
    "for d in data:\n",
    "    d['year']=int(d['year'])\n",
    "    d['percent']=float(d['percent'])"
   ]
  },
  {
   "cell_type": "code",
   "execution_count": 16,
   "metadata": {},
   "outputs": [
    {
     "name": "stdin",
     "output_type": "stream",
     "text": [
      "Enter a name:  James\n",
      "Enter a sex (boy or girl):  boy\n"
     ]
    },
    {
     "data": {
      "text/plain": [
       "[{'year': 1944, 'name': 'James', 'percent': 0.055406, 'sex': 'boy'},\n",
       " {'year': 1943, 'name': 'James', 'percent': 0.055183, 'sex': 'boy'},\n",
       " {'year': 1942, 'name': 'James', 'percent': 0.054812, 'sex': 'boy'},\n",
       " {'year': 1945, 'name': 'James', 'percent': 0.054288, 'sex': 'boy'},\n",
       " {'year': 1941, 'name': 'James', 'percent': 0.053182, 'sex': 'boy'}]"
      ]
     },
     "execution_count": 16,
     "metadata": {},
     "output_type": "execute_result"
    }
   ],
   "source": [
    "name = input(\"Enter a name: \")\n",
    "sex = input(\"Enter a sex (boy or girl): \")\n",
    "zz = sorted([b for b in data if b['name']==name and b['sex']==sex],key = lambda x: -x['percent'])\n",
    "zz[:5]"
   ]
  },
  {
   "cell_type": "code",
   "execution_count": 15,
   "metadata": {},
   "outputs": [
    {
     "name": "stdout",
     "output_type": "stream",
     "text": [
      "92\n",
      "0.9304390000000067\n"
     ]
    },
    {
     "data": {
      "text/plain": [
       "[{'year': 1880, 'name': 'James', 'percent': 0.050057, 'sex': 'boy'},\n",
       " {'year': 1881, 'name': 'James', 'percent': 0.050253, 'sex': 'boy'},\n",
       " {'year': 1882, 'name': 'James', 'percent': 0.048281, 'sex': 'boy'},\n",
       " {'year': 1883, 'name': 'James', 'percent': 0.046449, 'sex': 'boy'},\n",
       " {'year': 1884, 'name': 'James', 'percent': 0.046389, 'sex': 'boy'},\n",
       " {'year': 1885, 'name': 'James', 'percent': 0.044632, 'sex': 'boy'},\n",
       " {'year': 1886, 'name': 'James', 'percent': 0.044983, 'sex': 'boy'},\n",
       " {'year': 1887, 'name': 'James', 'percent': 0.043617, 'sex': 'boy'},\n",
       " {'year': 1888, 'name': 'James', 'percent': 0.042813, 'sex': 'boy'},\n",
       " {'year': 1889, 'name': 'James', 'percent': 0.042185, 'sex': 'boy'},\n",
       " {'year': 1890, 'name': 'James', 'percent': 0.04258, 'sex': 'boy'},\n",
       " {'year': 1891, 'name': 'James', 'percent': 0.041328, 'sex': 'boy'},\n",
       " {'year': 1892, 'name': 'James', 'percent': 0.041062, 'sex': 'boy'},\n",
       " {'year': 1893, 'name': 'James', 'percent': 0.041538, 'sex': 'boy'},\n",
       " {'year': 1894, 'name': 'James', 'percent': 0.04091, 'sex': 'boy'},\n",
       " {'year': 1895, 'name': 'James', 'percent': 0.042131, 'sex': 'boy'},\n",
       " {'year': 1896, 'name': 'James', 'percent': 0.040337, 'sex': 'boy'},\n",
       " {'year': 1897, 'name': 'James', 'percent': 0.041925, 'sex': 'boy'},\n",
       " {'year': 1898, 'name': 'James', 'percent': 0.040274, 'sex': 'boy'},\n",
       " {'year': 1899, 'name': 'James', 'percent': 0.039911, 'sex': 'boy'},\n",
       " {'year': 1900, 'name': 'James', 'percent': 0.044677, 'sex': 'boy'},\n",
       " {'year': 1901, 'name': 'James', 'percent': 0.040958, 'sex': 'boy'},\n",
       " {'year': 1902, 'name': 'James', 'percent': 0.042123, 'sex': 'boy'},\n",
       " {'year': 1903, 'name': 'James', 'percent': 0.042371, 'sex': 'boy'},\n",
       " {'year': 1904, 'name': 'James', 'percent': 0.042299, 'sex': 'boy'},\n",
       " {'year': 1905, 'name': 'James', 'percent': 0.042172, 'sex': 'boy'},\n",
       " {'year': 1906, 'name': 'James', 'percent': 0.041013, 'sex': 'boy'},\n",
       " {'year': 1907, 'name': 'James', 'percent': 0.042303, 'sex': 'boy'},\n",
       " {'year': 1908, 'name': 'James', 'percent': 0.042138, 'sex': 'boy'},\n",
       " {'year': 1909, 'name': 'James', 'percent': 0.04293, 'sex': 'boy'},\n",
       " {'year': 1910, 'name': 'James', 'percent': 0.044092, 'sex': 'boy'},\n",
       " {'year': 1911, 'name': 'James', 'percent': 0.041238, 'sex': 'boy'},\n",
       " {'year': 1912, 'name': 'James', 'percent': 0.039095, 'sex': 'boy'},\n",
       " {'year': 1913, 'name': 'James', 'percent': 0.038851, 'sex': 'boy'},\n",
       " {'year': 1914, 'name': 'James', 'percent': 0.038436, 'sex': 'boy'},\n",
       " {'year': 1915, 'name': 'James', 'percent': 0.038336, 'sex': 'boy'},\n",
       " {'year': 1916, 'name': 'James', 'percent': 0.038528, 'sex': 'boy'},\n",
       " {'year': 1917, 'name': 'James', 'percent': 0.038924, 'sex': 'boy'},\n",
       " {'year': 1918, 'name': 'James', 'percent': 0.04017, 'sex': 'boy'},\n",
       " {'year': 1919, 'name': 'James', 'percent': 0.04174, 'sex': 'boy'},\n",
       " {'year': 1920, 'name': 'James', 'percent': 0.04355, 'sex': 'boy'},\n",
       " {'year': 1921, 'name': 'James', 'percent': 0.043726, 'sex': 'boy'},\n",
       " {'year': 1922, 'name': 'James', 'percent': 0.044264, 'sex': 'boy'},\n",
       " {'year': 1923, 'name': 'James', 'percent': 0.044594, 'sex': 'boy'},\n",
       " {'year': 1924, 'name': 'James', 'percent': 0.045277, 'sex': 'boy'},\n",
       " {'year': 1925, 'name': 'James', 'percent': 0.045745, 'sex': 'boy'},\n",
       " {'year': 1926, 'name': 'James', 'percent': 0.046442, 'sex': 'boy'},\n",
       " {'year': 1927, 'name': 'James', 'percent': 0.04617, 'sex': 'boy'},\n",
       " {'year': 1928, 'name': 'James', 'percent': 0.046251, 'sex': 'boy'},\n",
       " {'year': 1929, 'name': 'James', 'percent': 0.047072, 'sex': 'boy'},\n",
       " {'year': 1930, 'name': 'James', 'percent': 0.047781, 'sex': 'boy'},\n",
       " {'year': 1931, 'name': 'James', 'percent': 0.04785, 'sex': 'boy'},\n",
       " {'year': 1932, 'name': 'James', 'percent': 0.048361, 'sex': 'boy'},\n",
       " {'year': 1933, 'name': 'James', 'percent': 0.050101, 'sex': 'boy'},\n",
       " {'year': 1934, 'name': 'James', 'percent': 0.0511, 'sex': 'boy'},\n",
       " {'year': 1935, 'name': 'James', 'percent': 0.051408, 'sex': 'boy'},\n",
       " {'year': 1936, 'name': 'James', 'percent': 0.051378, 'sex': 'boy'},\n",
       " {'year': 1937, 'name': 'James', 'percent': 0.05174, 'sex': 'boy'},\n",
       " {'year': 1938, 'name': 'James', 'percent': 0.051999, 'sex': 'boy'},\n",
       " {'year': 1939, 'name': 'James', 'percent': 0.052613, 'sex': 'boy'},\n",
       " {'year': 1940, 'name': 'James', 'percent': 0.052662, 'sex': 'boy'},\n",
       " {'year': 1941, 'name': 'James', 'percent': 0.053182, 'sex': 'boy'},\n",
       " {'year': 1942, 'name': 'James', 'percent': 0.054812, 'sex': 'boy'},\n",
       " {'year': 1943, 'name': 'James', 'percent': 0.055183, 'sex': 'boy'},\n",
       " {'year': 1944, 'name': 'James', 'percent': 0.055406, 'sex': 'boy'},\n",
       " {'year': 1945, 'name': 'James', 'percent': 0.054288, 'sex': 'boy'},\n",
       " {'year': 1946, 'name': 'James', 'percent': 0.052999, 'sex': 'boy'},\n",
       " {'year': 1947, 'name': 'James', 'percent': 0.050987, 'sex': 'boy'},\n",
       " {'year': 1948, 'name': 'James', 'percent': 0.049697, 'sex': 'boy'},\n",
       " {'year': 1949, 'name': 'James', 'percent': 0.048244, 'sex': 'boy'},\n",
       " {'year': 1950, 'name': 'James', 'percent': 0.047336, 'sex': 'boy'},\n",
       " {'year': 1951, 'name': 'James', 'percent': 0.045662, 'sex': 'boy'},\n",
       " {'year': 1952, 'name': 'James', 'percent': 0.044132, 'sex': 'boy'},\n",
       " {'year': 1953, 'name': 'James', 'percent': 0.042975, 'sex': 'boy'},\n",
       " {'year': 1954, 'name': 'James', 'percent': 0.041729, 'sex': 'boy'},\n",
       " {'year': 1955, 'name': 'James', 'percent': 0.040283, 'sex': 'boy'},\n",
       " {'year': 1956, 'name': 'James', 'percent': 0.039575, 'sex': 'boy'},\n",
       " {'year': 1957, 'name': 'James', 'percent': 0.038509, 'sex': 'boy'},\n",
       " {'year': 1958, 'name': 'James', 'percent': 0.036582, 'sex': 'boy'},\n",
       " {'year': 1959, 'name': 'James', 'percent': 0.036281, 'sex': 'boy'},\n",
       " {'year': 1960, 'name': 'James', 'percent': 0.035483, 'sex': 'boy'},\n",
       " {'year': 1961, 'name': 'James', 'percent': 0.035208, 'sex': 'boy'},\n",
       " {'year': 1962, 'name': 'James', 'percent': 0.03452, 'sex': 'boy'},\n",
       " {'year': 1963, 'name': 'James', 'percent': 0.034535, 'sex': 'boy'},\n",
       " {'year': 1964, 'name': 'James', 'percent': 0.036028, 'sex': 'boy'},\n",
       " {'year': 1965, 'name': 'James', 'percent': 0.035714, 'sex': 'boy'},\n",
       " {'year': 1966, 'name': 'James', 'percent': 0.035874, 'sex': 'boy'},\n",
       " {'year': 1967, 'name': 'James', 'percent': 0.03467, 'sex': 'boy'},\n",
       " {'year': 1968, 'name': 'James', 'percent': 0.034203, 'sex': 'boy'},\n",
       " {'year': 1969, 'name': 'James', 'percent': 0.03276, 'sex': 'boy'},\n",
       " {'year': 1970, 'name': 'James', 'percent': 0.032425, 'sex': 'boy'},\n",
       " {'year': 1971, 'name': 'James', 'percent': 0.030042, 'sex': 'boy'}]"
      ]
     },
     "execution_count": 15,
     "metadata": {},
     "output_type": "execute_result"
    }
   ],
   "source": [
    "yy = sorted([b for b in data if b['name']=='James' and b['percent']>0.03],key=lambda x: x['year'])\n",
    "print(len(yy))\n",
    "s = sum([t['percent'] for t in data if t['year']==1881 and t['sex']=='boy'])\n",
    "print(s)\n",
    "yy"
   ]
  },
  {
   "cell_type": "code",
   "execution_count": null,
   "metadata": {},
   "outputs": [],
   "source": []
  }
 ],
 "metadata": {
  "kernelspec": {
   "display_name": "Python 3",
   "language": "python",
   "name": "python3"
  },
  "language_info": {
   "codemirror_mode": {
    "name": "ipython",
    "version": 3
   },
   "file_extension": ".py",
   "mimetype": "text/x-python",
   "name": "python",
   "nbconvert_exporter": "python",
   "pygments_lexer": "ipython3",
   "version": "3.8.5"
  }
 },
 "nbformat": 4,
 "nbformat_minor": 4
}
