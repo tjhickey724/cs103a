{
 "cells": [
  {
   "cell_type": "code",
   "execution_count": null,
   "metadata": {},
   "outputs": [],
   "source": []
  },
  {
   "cell_type": "code",
   "execution_count": 1,
   "metadata": {},
   "outputs": [],
   "source": [
    "import csv"
   ]
  },
  {
   "cell_type": "code",
   "execution_count": 2,
   "metadata": {},
   "outputs": [
    {
     "name": "stdout",
     "output_type": "stream",
     "text": [
      "258000\n"
     ]
    }
   ],
   "source": [
    "with open('data/baby-names.csv') as csvfile:\n",
    "    reader = csv.DictReader(csvfile)\n",
    "    data = [row for row in reader]\n",
    "print(len(data))"
   ]
  },
  {
   "cell_type": "code",
   "execution_count": 3,
   "metadata": {},
   "outputs": [
    {
     "name": "stdin",
     "output_type": "stream",
     "text": [
      "Enter a name:  John\n"
     ]
    }
   ],
   "source": []
  },
  {
   "cell_type": "code",
   "execution_count": 6,
   "metadata": {},
   "outputs": [],
   "source": [
    "data[:4]\n",
    "for d in data:\n",
    "    d['year']=int(d['year'])\n",
    "    d['percent']=float(d['percent'])"
   ]
  },
  {
   "cell_type": "code",
   "execution_count": 9,
   "metadata": {},
   "outputs": [
    {
     "name": "stdin",
     "output_type": "stream",
     "text": [
      "Enter a name:  Jan\n",
      "Enter a sex (boy or gir):  boy\n"
     ]
    },
    {
     "data": {
      "text/plain": [
       "[{'year': 1944, 'name': 'Jan', 'percent': 0.00039, 'sex': 'boy'},\n",
       " {'year': 1951, 'name': 'Jan', 'percent': 0.000384, 'sex': 'boy'},\n",
       " {'year': 1943, 'name': 'Jan', 'percent': 0.00038, 'sex': 'boy'},\n",
       " {'year': 1954, 'name': 'Jan', 'percent': 0.000371, 'sex': 'boy'},\n",
       " {'year': 1941, 'name': 'Jan', 'percent': 0.000365, 'sex': 'boy'}]"
      ]
     },
     "execution_count": 9,
     "metadata": {},
     "output_type": "execute_result"
    }
   ],
   "source": [
    "name = input(\"Enter a name: \")\n",
    "sex = input(\"Enter a sex (boy or gir): \")\n",
    "zz = sorted([b for b in data if b['name']==name and b['sex']==sex],key = lambda x: -x['percent'])\n",
    "zz[:5]"
   ]
  },
  {
   "cell_type": "code",
   "execution_count": null,
   "metadata": {},
   "outputs": [],
   "source": []
  }
 ],
 "metadata": {
  "kernelspec": {
   "display_name": "Python 3",
   "language": "python",
   "name": "python3"
  },
  "language_info": {
   "codemirror_mode": {
    "name": "ipython",
    "version": 3
   },
   "file_extension": ".py",
   "mimetype": "text/x-python",
   "name": "python",
   "nbconvert_exporter": "python",
   "pygments_lexer": "ipython3",
   "version": "3.8.5"
  }
 },
 "nbformat": 4,
 "nbformat_minor": 4
}
