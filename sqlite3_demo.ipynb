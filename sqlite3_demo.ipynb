{
 "cells": [
  {
   "cell_type": "markdown",
   "metadata": {},
   "source": [
    "# SQLITE3  in Python\n",
    "\n",
    "SQLlite is a package to manipulate dataset using the Structured Query Language.\n",
    "\n",
    "In this notebook we introduce the concept of a SQL database and show how to interact with these databases in Python.\n",
    "\n",
    "The fundamental concepts in SQL are the following:\n",
    "* a database is a collection of datasets stored as tables.\n",
    "  * Tables are similar to a pandas dataframe but the index is called rowid. \n",
    "  * We use SQL commands to create and drop tables in the database\n",
    "  * CREATE allows us to create a new table\n",
    "  * DROP allows us to delete an existing table and all of its data\n",
    "* a table is a dataset consisting of a number of rows and columns\n",
    "  *  each column has a name and a type\n",
    "  *  each row has a unique rowid automatically created by SQLite\n",
    "* a cursor is a Python object that allows us to interact with the tables in a database in several ways\n",
    "  * INSERT allows us to add new rows\n",
    "  * UPDATE allows us to modify the content of a row\n",
    "  * DELETE allows us to remove rows\n",
    "  * SELECT allows us to return rows of data from the tables in the database\n",
    "\n",
    "Here is a link to all of the [SQLite statements](https://www.sqlite.org/lang.html) (and their grammar)\n",
    "\n",
    "Here is a page \n",
    "[Pandas vs SQL](https://pandas.pydata.org/docs/getting_started/comparison/comparison_with_sql.html)\n",
    "that compares Pandas with SQL commands since they both deal with tables of data and do similar things.\n",
    "\n",
    "As usual we first import the libraries we will need.\n"
   ]
  },
  {
   "cell_type": "code",
   "execution_count": null,
   "metadata": {},
   "outputs": [],
   "source": [
    "import sqlite3\n",
    "import csv\n",
    "'done'"
   ]
  },
  {
   "cell_type": "markdown",
   "metadata": {},
   "source": [
    "# Interacting with the database\n",
    "Sqlite stores its data in a file and to interact with the database you need to take three steps:\n",
    "1. create a connection to the database (and this will create the database file if it doesn't already exist)\n",
    "1. create a cursor for the connection (this allows us to query and modify the database)\n",
    "1. run some queries using the cursor\n",
    "1. commit the changes (if we don't commit the change then the database isn't updated, it is similar to commit with git!)\n",
    "1. close the connection\n",
    "\n",
    "The template for this code looks like this\n",
    "``` python\n",
    "    con= sqlite3.connect('courses.db') # create the connection\n",
    "    cur = con.cursor()   # create the cursor to interact with the connection\n",
    "    cur.execute(''' SOME \n",
    "    (MULTILINE) SQL COMMANDS GO HERE\n",
    "    ending with a semicolon, always  ;\n",
    "    ''')\n",
    "    con.commit()  # write any database changes to the database file\n",
    "    con.close()  # close the connection\n",
    "```\n",
    "\n",
    "In this tutorial we will learn a few of the core SQL commands. \n",
    "The full list is here https://www.sqlite.org/lang.html"
   ]
  },
  {
   "cell_type": "markdown",
   "metadata": {},
   "source": [
    "# Overview of most common SQL commands\n",
    "## Creating and dropping tables\n",
    "``` python\n",
    "CREATE TABLE tablename IF NOT EXISTS (colnam1 coltype1,  colname2 coltyp2, ...); -- create a new table\n",
    "DROP TABLE tablename;\n",
    "```\n",
    "## Inserting data into a table\n",
    "``` python\n",
    "INSERT INTO tablename VALUES (col1val, col2val, ...) ; -- insert a row into a table\n",
    "```\n",
    "## Selecting data from a table\n",
    "``` python\n",
    "SELECT * FROM tablename;\n",
    "SELECT colname1, colname2, ... FROM tablename WHERE condition1 OR condition2 AND NOT condition3;\n",
    "```\n",
    "## Delete rows from the table\n",
    "``` python\n",
    "DELETE FROM tablename;  -- remove all rows from the table\n",
    "DELETE FROM tablename WHERE conditions;  -- delete selected rows from the table\n",
    "```\n",
    "## Updating data \n",
    "``` python\n",
    "UPDATE tablename SET colname=expression WHERE condition;\n",
    "```\n",
    "\n",
    "# CRUD\n",
    "There are many more SQL commands but these five will allow you to do all of the CRUD operations\n",
    "which form the foundation of most database-backed apps. If you are interested in learning more about\n",
    "databases you should take the **CS127b: Introduction to Databases** course\n",
    "* Create -- with INSERT\n",
    "* Read -- with SELECT\n",
    "* Update -- with UPDATE\n",
    "* Delete -- with DELETE\n",
    "\n",
    "In the rest of this notebook we show how to interact with a SQLite database using Python.\n",
    "\n",
    "We will use the courses.csv dataset as our example."
   ]
  },
  {
   "cell_type": "markdown",
   "metadata": {},
   "source": [
    "# Creating a table to store the course data\n",
    "SQL requires that all data be stored in tables where each column has a name and a type.\n",
    "\n",
    "The SQLite types are TEXT, NUMERIC, INTEGER, REAL, BLOB \n",
    "\n",
    "Here we define a function to create the table we are going to use to store the PA01 dataset.\n",
    "\n",
    "The PA01 dataset, courses.csv, has the following form as a CSV file:\n",
    "```\n",
    "subj\tnum\tsuf\tformat\tterm\tcode\tinst\ttitle\tsec\tenr\n",
    "NEJS\t188\tA\tLEC\tFall 2004\t1043\tLevy, Avigdor\tRISE/DECLINE:OTTOMAN EMP\t1\t32\n",
    "CHEM\t121\tA\tLEC\tFall 2004\t1043\tFoxman, Bruce\tINORGANIC CHEM I, LECS.\t1\t18\n",
    "CHEM\t130\tA\tLEC\tFall 2004\t1043\tYu, Jinquan\tADV ORG. CHEM: STRUCTURE\t1\t14\n",
    "```\n",
    "The functions below create or drop the table to store the courses.csv data."
   ]
  },
  {
   "cell_type": "code",
   "execution_count": null,
   "metadata": {},
   "outputs": [],
   "source": [
    "def create_data_table():\n",
    "    ''' create a table to store the Brandeis course data'''\n",
    "    con= sqlite3.connect('courses.db')\n",
    "    cur = con.cursor()\n",
    "    cur.execute('''CREATE TABLE IF NOT EXISTS data\n",
    "                     (subj text, num int, suf text, format text, term text, code int, inst text, title text, sec text, enr int)''')\n",
    "    con.commit()\n",
    "    con.close()\n",
    "\n",
    "def drop_data_table():\n",
    "    ''' remove the table and all of its data from the database'''\n",
    "    con= sqlite3.connect('courses.db')\n",
    "    cur = con.cursor()\n",
    "    cur.execute('''DROP TABLE IF EXISTS data ''')\n",
    "    con.commit()\n",
    "    con.close()\n",
    "    \n",
    "drop_data_table()\n",
    "create_data_table()"
   ]
  },
  {
   "cell_type": "markdown",
   "metadata": {},
   "source": [
    "# loading and selecting the data\n",
    "To load data into a database we can use the executemany cursor command\n",
    "with an \"INSERT SQL\" command. Each row in rows is a tuple with 10 elements (matching the 10 question marks in the quer)\n",
    "\n",
    "\n"
   ]
  },
  {
   "cell_type": "code",
   "execution_count": null,
   "metadata": {},
   "outputs": [],
   "source": [
    "def load_data():\n",
    "    ''' load data from courses.csv into courses.db by inserting one row at a time '''\n",
    "    con= sqlite3.connect('courses.db')\n",
    "    cur = con.cursor()\n",
    "    course_file = open('data/courses.csv')\n",
    "    rows = csv.reader(course_file)\n",
    "    for row in rows:\n",
    "        cur.execute(\"INSERT INTO data VALUES (?, ?, ?, ?, ?, ?, ?, ?, ?, ?)\",row)\n",
    "    con.commit()\n",
    "    con.close()\n",
    "\n",
    "def load_data2():\n",
    "    ''' load data from courses.csv into courses.db using the executemany cursor method '''\n",
    "    con= sqlite3.connect('courses.db')\n",
    "    cur = con.cursor()\n",
    "    course_file = open('data/courses.csv')\n",
    "    rows = csv.reader(course_file)\n",
    "    cur.executemany(\"INSERT INTO data VALUES (?, ?, ?, ?, ?, ?, ?, ?, ?, ?)\",rows)\n",
    "    con.commit()\n",
    "    con.close()\n",
    "    \n",
    "def get_all_data():\n",
    "    ''' read all of the data and return it as a list of tuples '''\n",
    "    con= sqlite3.connect('courses.db')\n",
    "    cur = con.cursor()\n",
    "    results = cur.execute(\"SELECT * FROM data\")\n",
    "    data= [x for x in results]\n",
    "    con.commit()\n",
    "    con.close()\n",
    "    return data\n",
    "\n",
    "def remove_all_data():\n",
    "    ''' remove all of the data from the table '''\n",
    "    con= sqlite3.connect('courses.db')\n",
    "    cur = con.cursor()\n",
    "    results = cur.execute(\"DELETE FROM data\")\n",
    "    con.commit()\n",
    "    con.close()\n",
    "\n",
    "load_data()\n"
   ]
  },
  {
   "cell_type": "markdown",
   "metadata": {},
   "source": [
    "# Selecting the data\n",
    "We can use the select statement to pick rows out of the database and then access those rows with\n",
    "``` python\n",
    "cur.fetchone() -- returns the next row in the result\n",
    "cur.fetchman(N) -- returns the next N rows as a list\n",
    "cur.fetchall() -- returns all the rows as a list\n",
    "```\n",
    "\n",
    "Here are some examples.."
   ]
  },
  {
   "cell_type": "code",
   "execution_count": null,
   "metadata": {},
   "outputs": [],
   "source": [
    "con= sqlite3.connect('courses.db')\n",
    "cur = con.cursor()\n",
    "\n",
    "\n",
    "print(\"First 10 courses in the dataset\")\n",
    "cur.execute(\"SELECT * FROM data;\")\n",
    "for i in range(10):\n",
    "    rows = cur.fetchmany(1)\n",
    "    print(rows)\n",
    "print('-'*40)\n",
    "\n",
    "\n",
    "print(\"Last 10 courses in the dataset\")\n",
    "cur.execute(\"SELECT * FROM data;\")\n",
    "data = cur.fetchall();\n",
    "for row in data[-10:]:\n",
    "    print(row)\n",
    "print('-'*40)\n",
    "\n",
    "\n",
    "print(\"first 100 or fewer COSI courses taught in summer semesters\")\n",
    "cur.execute(\"SELECT * FROM data where subj='COSI' and code%10=2;\")\n",
    "data = cur.fetchmany(100)\n",
    "for row in data:\n",
    "    print(row)\n",
    "print('-'*40)\n",
    "\n",
    "\n",
    "con.commit()\n",
    "con.close()\n"
   ]
  },
  {
   "cell_type": "markdown",
   "metadata": {},
   "source": [
    "# Creating a SQLite shell"
   ]
  },
  {
   "cell_type": "code",
   "execution_count": null,
   "metadata": {},
   "outputs": [],
   "source": [
    "def shell():\n",
    "    \n",
    "    \n",
    "    command = input(\">> \")\n",
    "    while command !='quit':\n",
    "        con= sqlite3.connect('courses.db')\n",
    "        cur = con.cursor()\n",
    "        \n",
    "        cur.execute(command)\n",
    "        results = cur.fetchall()\n",
    "        for row in results[:5]:\n",
    "            print(row)\n",
    "        print('.'*40)\n",
    "        for row in results[-5:]:\n",
    "            print(row)\n",
    "        con.commit()\n",
    "        con.close()\n",
    "        \n",
    "        command = input(\">> \")\n",
    "    print('bye')\n",
    "    \n",
    "    \n",
    "\n",
    "        \n",
    "    "
   ]
  },
  {
   "cell_type": "code",
   "execution_count": null,
   "metadata": {},
   "outputs": [],
   "source": [
    "#shell()"
   ]
  },
  {
   "cell_type": "code",
   "execution_count": null,
   "metadata": {},
   "outputs": [],
   "source": [
    "drop_data_table()\n",
    "create_data_table()"
   ]
  },
  {
   "cell_type": "code",
   "execution_count": null,
   "metadata": {},
   "outputs": [],
   "source": [
    "\n",
    "load_data()\n"
   ]
  },
  {
   "cell_type": "code",
   "execution_count": null,
   "metadata": {},
   "outputs": [],
   "source": [
    "data = get_all_data()\n",
    "len(data)"
   ]
  },
  {
   "cell_type": "code",
   "execution_count": null,
   "metadata": {},
   "outputs": [],
   "source": [
    "print(data[1000])"
   ]
  },
  {
   "cell_type": "code",
   "execution_count": null,
   "metadata": {},
   "outputs": [],
   "source": [
    "print('removing all data from the table')\n",
    "remove_all_data()\n",
    "data = get_all_data()\n",
    "print('tbe table size is now',len(data))\n",
    "print('.'*40)\n",
    "print('loading all data into the table')\n",
    "load_data()\n",
    "data = get_all_data()\n",
    "print('the table size is now',len(data))\n",
    "\n",
    "\n"
   ]
  },
  {
   "cell_type": "code",
   "execution_count": null,
   "metadata": {},
   "outputs": [],
   "source": [
    "print('Calculating the unique term codes in the dataset')\n",
    "con= sqlite3.connect('courses.db')\n",
    "cur = con.cursor()\n",
    "results = cur.execute(\"SELECT distinct code from data \")\n",
    "codes = [row[0] for row in results]\n",
    "codes = codes[1:]\n",
    "print(codes)\n",
    "con.close()"
   ]
  },
  {
   "cell_type": "code",
   "execution_count": null,
   "metadata": {},
   "outputs": [],
   "source": [
    "print('calculating the number of students taking COSI courses each term (with double counting!)')\n",
    "con= sqlite3.connect('courses.db')\n",
    "cur = con.cursor()\n",
    "#cur.execute(\"DELETE FROM data WHERE code NOTNULL\")\n",
    "cur.execute(\"SELECT code,COUNT(*) from data group by code\")\n",
    "for row in cur.fetchall():\n",
    "    print(row)\n",
    "con.close()"
   ]
  },
  {
   "cell_type": "code",
   "execution_count": null,
   "metadata": {},
   "outputs": [],
   "source": [
    "print('Printing out the bulletin of all COSI courses offered from Fall04 to Summer21')\n",
    "con= sqlite3.connect('courses.db')\n",
    "cur = con.cursor()\n",
    "for code in codes[:3]:\n",
    "    cur.execute(\"SELECT * from data where subj=(?) and code=(?) order by code, num\",('COSI', code ))\n",
    "    print(\"Year \",code)\n",
    "    for row in cur.fetchall():\n",
    "        print(row)\n",
    "    print('------',end=\"\\n\\n\")\n",
    "con.close()"
   ]
  },
  {
   "cell_type": "code",
   "execution_count": null,
   "metadata": {},
   "outputs": [],
   "source": [
    "print('printing out the COSI courses from Spring 2005')\n",
    "con= sqlite3.connect('courses.db')\n",
    "cur = con.cursor()\n",
    "cur.execute(\"SELECT num, suf, title, inst from data where subj=(?) and code=(?)\",('COSI', 1051))\n",
    "for row in cur.fetchall():\n",
    "    print(row)\n",
    "con.commit()\n",
    "con.close()"
   ]
  },
  {
   "cell_type": "code",
   "execution_count": null,
   "metadata": {},
   "outputs": [],
   "source": [
    "print(\"printing out the number of COSI courses taught by each COSI instructor from Fall04 to Summer21\")\n",
    "con= sqlite3.connect('courses.db')\n",
    "cur = con.cursor()\n",
    "cur.execute(\"SELECT inst,sum(enr) as n from data where subj=(?) group by inst order by n desc\",('COSI', ))\n",
    "for row in cur.fetchall():\n",
    "    print(row)\n",
    "con.commit()\n",
    "con.close()"
   ]
  },
  {
   "cell_type": "code",
   "execution_count": null,
   "metadata": {},
   "outputs": [],
   "source": [
    "print(\"printing out the enrollments in COSI courses from Fall2004 through Summer2021\")\n",
    "con= sqlite3.connect('courses.db')\n",
    "cur = con.cursor()\n",
    "cur.execute(\"SELECT term,sum(enr) as n from data where subj=(?) group by code order by code\",('COSI', ))\n",
    "for row in cur.fetchall():\n",
    "    print(row)\n",
    "    if row[0].startswith('Summer'):\n",
    "        print()\n",
    "con.commit()\n",
    "con.close()"
   ]
  },
  {
   "cell_type": "code",
   "execution_count": null,
   "metadata": {},
   "outputs": [],
   "source": [
    "print(\"printing out rowids which are unique keys for each row\")\n",
    "con= sqlite3.connect('courses.db')\n",
    "cur = con.cursor()\n",
    "cur.execute(\"SELECT rowid,enr,*  from data where subj=(?)  order by enr desc limit 20\",('COSI', ))\n",
    "for row in cur.fetchall():\n",
    "    print(row)\n",
    "    if row[2].startswith('Summer'):\n",
    "        print()\n",
    "con.commit()\n",
    "con.close()"
   ]
  },
  {
   "cell_type": "code",
   "execution_count": null,
   "metadata": {},
   "outputs": [],
   "source": []
  }
 ],
 "metadata": {
  "kernelspec": {
   "display_name": "Python 3",
   "language": "python",
   "name": "python3"
  },
  "language_info": {
   "codemirror_mode": {
    "name": "ipython",
    "version": 3
   },
   "file_extension": ".py",
   "mimetype": "text/x-python",
   "name": "python",
   "nbconvert_exporter": "python",
   "pygments_lexer": "ipython3",
   "version": "3.8.5"
  }
 },
 "nbformat": 4,
 "nbformat_minor": 4
}
