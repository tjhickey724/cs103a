{
 "cells": [
  {
   "cell_type": "markdown",
   "metadata": {},
   "source": [
    "# SQLITE3  in Python\n",
    "\n",
    "SQLlite is a package to manipulate dataset using the Structured Query Language.\n",
    "\n",
    "In this notebook we introduce the concept of a SQL database and show how to interact with these databases in Python.\n",
    "\n",
    "The fundamental concepts in SQL are the following:\n",
    "* a database is a collection of datasets stored as tables\n",
    "* a table is a dataset consisting of a number of rows and columns, where each column has a name and a type\n",
    "* a cursor is a Python object that allows us to interact with the tables in a database in several ways\n",
    "  * INSERT allows us to add new rows\n",
    "  * UPDATE allows us to modify the content of a row\n",
    "  * DELETE allows us to remove rows\n",
    "  * SELECT allows us to return rows of data from the tables in the database\n",
    "\n",
    "Here is a link to all of the [SQLite statements](https://www.sqlite.org/lang.html) (and their grammar)\n",
    "\n",
    "As usual we first import the libraries we will need.\n"
   ]
  },
  {
   "cell_type": "code",
   "execution_count": 1,
   "metadata": {},
   "outputs": [
    {
     "data": {
      "text/plain": [
       "'done'"
      ]
     },
     "execution_count": 1,
     "metadata": {},
     "output_type": "execute_result"
    }
   ],
   "source": [
    "import sqlite3\n",
    "import csv\n",
    "'done'"
   ]
  },
  {
   "cell_type": "markdown",
   "metadata": {},
   "source": [
    "# Creating a table to store the data\n",
    "SQL requires that all data be stored in tables where each column has a name and a type.\n",
    "\n",
    "The SQLite types are TEXT, NUMERIC, INTEGER, REAL, BLOB \n",
    "\n",
    "Here we define a function to create the table we are going to use to store the PA01 dataset.\n",
    "\n",
    "The PA01 dataset, courses.csv, has the following form as a CSV file:\n",
    "```\n",
    "subj\tnum\tsuf\tformat\tterm\tcode\tinst\ttitle\tsec\tenr\n",
    "NEJS\t188\tA\tLEC\tFall 2004\t1043\tLevy, Avigdor\tRISE/DECLINE:OTTOMAN EMP\t1\t32\n",
    "CHEM\t121\tA\tLEC\tFall 2004\t1043\tFoxman, Bruce\tINORGANIC CHEM I, LECS.\t1\t18\n",
    "CHEM\t130\tA\tLEC\tFall 2004\t1043\tYu, Jinquan\tADV ORG. CHEM: STRUCTURE\t1\t14\n",
    "```\n",
    "We create the table below to store this data."
   ]
  },
  {
   "cell_type": "code",
   "execution_count": 2,
   "metadata": {},
   "outputs": [],
   "source": [
    "def create_data_table():\n",
    "    ''' create a table to store the Brandeis course data'''\n",
    "    con= sqlite3.connect('courses.db')\n",
    "    cur = con.cursor()\n",
    "    cur.execute('''CREATE TABLE data \n",
    "                     (subj text, num int, suf text, format text, term text, code int, inst text, title text, sec text, enr int)''')\n",
    "    con.commit()\n",
    "    con.close()\n",
    "\n",
    "def remove_data_table():\n",
    "    ''' remove the table and all of its data from the database'''\n",
    "    con= sqlite3.connect('courses.db')\n",
    "    cur = con.cursor()\n",
    "    cur.execute('''DROP TABLE data ''')\n",
    "    con.commit()\n",
    "    con.close()"
   ]
  },
  {
   "cell_type": "markdown",
   "metadata": {},
   "source": [
    "# loading the data\n",
    "To load data into a database we can use the executemany cursor command\n",
    "with an \"INSERT SQL\" command. Each row in rows is a tuple with 10 elements (matching the 10 question marks in the quer)\n",
    "\n",
    "\n"
   ]
  },
  {
   "cell_type": "code",
   "execution_count": 22,
   "metadata": {},
   "outputs": [],
   "source": [
    "def load_data():\n",
    "    con= sqlite3.connect('courses.db')\n",
    "    cur = con.cursor()\n",
    "    course_file = open('data/courses.csv')\n",
    "    rows = csv.reader(course_file)\n",
    "    for row in rows:\n",
    "        cur.execute(\"INSERT INTO data VALUES (?, ?, ?, ?, ?, ?, ?, ?, ?, ?)\",row)\n",
    "    con.commit()\n",
    "    con.close()\n",
    "\n",
    "def load_data2():\n",
    "    con= sqlite3.connect('courses.db')\n",
    "    cur = con.cursor()\n",
    "    course_file = open('data/courses.csv')\n",
    "    rows = csv.reader(course_file)\n",
    "    cur.executemany(\"INSERT INTO data VALUES (?, ?, ?, ?, ?, ?, ?, ?, ?, ?)\",rows)\n",
    "    con.commit()\n",
    "    con.close()\n",
    "    \n",
    "def get_all_data():\n",
    "    con= sqlite3.connect('courses.db')\n",
    "    cur = con.cursor()\n",
    "    results = cur.execute(\"SELECT * FROM data\")\n",
    "    data= [x for x in results]\n",
    "    con.commit()\n",
    "    con.close()\n",
    "    return data\n",
    "\n",
    "def remove_all_data():\n",
    "    con= sqlite3.connect('courses.db')\n",
    "    cur = con.cursor()\n",
    "    results = cur.execute(\"DELETE FROM data\")\n",
    "    con.commit()\n",
    "    con.close()\n"
   ]
  },
  {
   "cell_type": "code",
   "execution_count": null,
   "metadata": {},
   "outputs": [],
   "source": [
    "con= sqlite3.connect('courses.db')\n",
    "cur = con.cursor()\n",
    "results = cur.execute(\"SELECT name FROM sqlite_master WHERE type='table';\")\n",
    "for row in results:\n",
    "    print(row)\n",
    "con.commit()\n",
    "con.close()\n"
   ]
  },
  {
   "cell_type": "markdown",
   "metadata": {},
   "source": [
    "# Creating a SQLite shell"
   ]
  },
  {
   "cell_type": "code",
   "execution_count": 36,
   "metadata": {},
   "outputs": [],
   "source": [
    "def shell():\n",
    "    \n",
    "    \n",
    "    command = input(\">> \")\n",
    "    while command !='quit':\n",
    "        con= sqlite3.connect('courses.db')\n",
    "        cur = con.cursor()\n",
    "        \n",
    "        results = cur.execute(command)\n",
    "        for row in results:\n",
    "            print(row)\n",
    "        con.commit()\n",
    "        con.close()\n",
    "        \n",
    "        command = input(\">> \")\n",
    "    print('bye')\n",
    "    \n",
    "    \n",
    "\n",
    "        \n",
    "    "
   ]
  },
  {
   "cell_type": "code",
   "execution_count": 37,
   "metadata": {},
   "outputs": [
    {
     "name": "stdin",
     "output_type": "stream",
     "text": [
      ">>  select * from data limit 5\n"
     ]
    },
    {
     "name": "stdout",
     "output_type": "stream",
     "text": [
      "('subj', 'num', 'suf', 'format', 'term', 'code', 'inst', 'title', 'sec', 'enr')\n",
      "('NEJS', 188, 'A', 'LEC', 'Fall 2004', 1043, 'Levy, Avigdor', 'RISE/DECLINE:OTTOMAN EMP', '1', 32)\n",
      "('CHEM', 121, 'A', 'LEC', 'Fall 2004', 1043, 'Foxman, Bruce', 'INORGANIC CHEM I, LECS.', '1', 18)\n",
      "('CHEM', 130, 'A', 'LEC', 'Fall 2004', 1043, 'Yu, Jinquan', 'ADV ORG. CHEM: STRUCTURE', '1', 14)\n",
      "('COMP', 1, 'A', 'LEC', 'Fall 2004', 1043, 'Ruesch, Gordon', 'COMPOSITION', '3', 11)\n"
     ]
    },
    {
     "name": "stdin",
     "output_type": "stream",
     "text": [
      ">>  select subj,count(*) from data group by subj\n"
     ]
    },
    {
     "name": "stdout",
     "output_type": "stream",
     "text": [
      "('AAAS', 215)\n",
      "('AAAS/ENG', 3)\n",
      "('AAAS/FA', 3)\n",
      "('AAAS/HIS', 2)\n",
      "('AAAS/WGS', 9)\n",
      "('AAPI', 3)\n",
      "('AAPI/HIS', 4)\n",
      "('AAPI/WGS', 3)\n",
      "('AAS/AAPI', 1)\n",
      "('AMST', 349)\n",
      "('AMST/ANT', 4)\n",
      "('AMST/ENG', 3)\n",
      "('AMST/MUS', 11)\n",
      "('AMST/SOC', 1)\n",
      "('ANTH', 698)\n",
      "('ANTH/ENG', 1)\n",
      "('ANTH/NEJ', 1)\n",
      "('ANTH/WGS', 1)\n",
      "('ARBC', 148)\n",
      "('BCBP', 58)\n",
      "('BCHM', 162)\n",
      "('BCSC', 5)\n",
      "('BIBC', 8)\n",
      "('BIOL', 1336)\n",
      "('BIOP', 7)\n",
      "('BIOT', 27)\n",
      "('BIPH', 8)\n",
      "('BISC', 74)\n",
      "('BUS', 1332)\n",
      "('BUS/ECON', 5)\n",
      "('BUS/FIN', 9)\n",
      "('CA', 5)\n",
      "('CAST', 15)\n",
      "('CBIO', 15)\n",
      "('CHEM', 1219)\n",
      "('CHIN', 358)\n",
      "('CHSC', 31)\n",
      "('CLAS', 145)\n",
      "('CLAS/ENG', 1)\n",
      "('CLAS/FA', 1)\n",
      "('CLAS/NEJ', 1)\n",
      "('CLAS/THA', 1)\n",
      "('COEX', 41)\n",
      "('COMH', 10)\n",
      "('COML', 76)\n",
      "('COML/ENG', 11)\n",
      "('COML/HOI', 1)\n",
      "('COML/HUM', 1)\n",
      "('COML/REC', 1)\n",
      "('COML/THA', 1)\n",
      "('COMP', 226)\n",
      "('COSI', 589)\n",
      "('CP', 6)\n",
      "('EAS', 4)\n",
      "('EBIO', 3)\n",
      "('ECON', 1361)\n",
      "('ECON/FA', 5)\n",
      "('ECON/FIN', 30)\n",
      "('ECON/HIS', 3)\n",
      "('ECS', 23)\n",
      "('ECS/ENG', 2)\n",
      "('ED', 808)\n",
      "('EL', 239)\n",
      "('ENG', 978)\n",
      "('ENG/HIST', 2)\n",
      "('ENVS', 130)\n",
      "('ENVS/THA', 1)\n",
      "('ESL', 131)\n",
      "('FA', 1084)\n",
      "('FA/NEJS', 6)\n",
      "('FA/RECS', 1)\n",
      "('FECS', 3)\n",
      "('FILM', 58)\n",
      "('FIN', 959)\n",
      "('FREN', 433)\n",
      "('FYS', 60)\n",
      "('GATE', 201)\n",
      "('GECS', 36)\n",
      "('GENC', 7)\n",
      "('GER', 156)\n",
      "('GRK', 88)\n",
      "('GS', 25)\n",
      "('GSAS', 46)\n",
      "('HBRW', 460)\n",
      "('HECS', 4)\n",
      "('HINDI', 4)\n",
      "('HIS/HSSP', 1)\n",
      "('HISP', 612)\n",
      "('HIST', 742)\n",
      "('HIST/SOC', 4)\n",
      "('HIST/WGS', 1)\n",
      "('HOID', 2)\n",
      "('HRNS', 147)\n",
      "('HRNS/HS', 18)\n",
      "('HRNS/NEJ', 1)\n",
      "('HS', 3201)\n",
      "('HS/POL', 1)\n",
      "('HSSP', 282)\n",
      "('HUM', 17)\n",
      "('HUM/UWS', 6)\n",
      "('HWL', 232)\n",
      "('IECS', 5)\n",
      "('IGS', 84)\n",
      "('IGS/LGLS', 29)\n",
      "('IGS/SAS', 3)\n",
      "('IMES', 22)\n",
      "('INT', 33)\n",
      "('ITAL', 167)\n",
      "('JAPN', 221)\n",
      "('JCS', 28)\n",
      "('JOUR', 141)\n",
      "('KOR', 38)\n",
      "('LALS', 8)\n",
      "('LAS', 1)\n",
      "('LAT', 87)\n",
      "('LGLS', 212)\n",
      "('LGLS/POL', 3)\n",
      "('LING', 176)\n",
      "('MATH', 1275)\n",
      "('MUS', 1636)\n",
      "('NBIO', 215)\n",
      "('NEJS', 840)\n",
      "('NEJS/SOC', 1)\n",
      "('NEUR', 11)\n",
      "('NPHY', 5)\n",
      "('NPSY', 158)\n",
      "('OFFC', 45)\n",
      "('PAX', 31)\n",
      "('PE', 965)\n",
      "('PEER', 17)\n",
      "('PHIL', 565)\n",
      "('PHSC', 19)\n",
      "('PHYS', 739)\n",
      "('PMED', 19)\n",
      "('POL', 765)\n",
      "('POL/WGS', 1)\n",
      "('PORT', 3)\n",
      "('PSYC', 671)\n",
      "('QBIO', 22)\n",
      "('QR', 1)\n",
      "('RBIF', 180)\n",
      "('RBIO', 16)\n",
      "('RBOT', 17)\n",
      "('RCHE', 8)\n",
      "('RCOM', 90)\n",
      "('RDFT', 24)\n",
      "('RDMD', 39)\n",
      "('RECS', 52)\n",
      "('RECS/THA', 4)\n",
      "('RECT', 2)\n",
      "('REL', 33)\n",
      "('REL/SAS', 5)\n",
      "('RHIN', 118)\n",
      "('RIAS', 115)\n",
      "('RIDT', 49)\n",
      "('RMGT', 219)\n",
      "('RPGM', 5)\n",
      "('RPJM', 378)\n",
      "('RSAN', 138)\n",
      "('RSEG', 490)\n",
      "('RSEM', 8)\n",
      "('RUCD', 62)\n",
      "('RUS', 117)\n",
      "('RVTM', 49)\n",
      "('SAL', 5)\n",
      "('SAS', 32)\n",
      "('SECS', 2)\n",
      "('SJSP', 15)\n",
      "('SOC', 624)\n",
      "('SPAN', 233)\n",
      "('SQS', 9)\n",
      "('SYS', 10)\n",
      "('THA', 1438)\n",
      "('TYP', 177)\n",
      "('USEM', 265)\n",
      "('UWS', 853)\n",
      "('WGS', 12)\n",
      "('WMGS', 125)\n",
      "('WMNS', 7)\n",
      "('YDSH', 55)\n",
      "('subj', 1)\n"
     ]
    },
    {
     "name": "stdin",
     "output_type": "stream",
     "text": [
      ">>  select subj,count(*) as n from data group by subj order by n desc limit 10 \n"
     ]
    },
    {
     "name": "stdout",
     "output_type": "stream",
     "text": [
      "('HS', 3201)\n",
      "('MUS', 1636)\n",
      "('THA', 1438)\n",
      "('ECON', 1361)\n",
      "('BIOL', 1336)\n",
      "('BUS', 1332)\n",
      "('MATH', 1275)\n",
      "('CHEM', 1219)\n",
      "('FA', 1084)\n",
      "('ENG', 978)\n"
     ]
    },
    {
     "name": "stdin",
     "output_type": "stream",
     "text": [
      ">>  quit\n"
     ]
    },
    {
     "name": "stdout",
     "output_type": "stream",
     "text": [
      "bye\n"
     ]
    }
   ],
   "source": [
    "shell()"
   ]
  },
  {
   "cell_type": "code",
   "execution_count": 27,
   "metadata": {},
   "outputs": [],
   "source": [
    "remove_data_table()\n",
    "create_data_table()"
   ]
  },
  {
   "cell_type": "code",
   "execution_count": 29,
   "metadata": {},
   "outputs": [],
   "source": [
    "\n",
    "load_data()\n"
   ]
  },
  {
   "cell_type": "code",
   "execution_count": 30,
   "metadata": {},
   "outputs": [
    {
     "data": {
      "text/plain": [
       "35207"
      ]
     },
     "execution_count": 30,
     "metadata": {},
     "output_type": "execute_result"
    }
   ],
   "source": [
    "data = get_all_data()\n",
    "len(data)"
   ]
  },
  {
   "cell_type": "code",
   "execution_count": 31,
   "metadata": {},
   "outputs": [
    {
     "name": "stdout",
     "output_type": "stream",
     "text": [
      "('EL', 94, 'A', 'LAB', 'Fall 2009', 1093, 'Morris, James', 'EXPERIENTIAL LEARNING PRACTICM', '8', 1)\n"
     ]
    }
   ],
   "source": [
    "print(data[1000])"
   ]
  },
  {
   "cell_type": "code",
   "execution_count": 24,
   "metadata": {},
   "outputs": [
    {
     "data": {
      "text/plain": [
       "0"
      ]
     },
     "execution_count": 24,
     "metadata": {},
     "output_type": "execute_result"
    }
   ],
   "source": [
    "remove_all_data()\n",
    "data = get_all_data()\n",
    "len(data)\n",
    "\n",
    "\n"
   ]
  },
  {
   "cell_type": "code",
   "execution_count": null,
   "metadata": {},
   "outputs": [],
   "source": [
    "con= sqlite3.connect('courses.db')\n",
    "cur = con.cursor()\n",
    "results = cur.execute(\"SELECT distinct code from data \")\n",
    "codes = [row[0] for row in results]\n",
    "codes = codes[1:]\n",
    "codes"
   ]
  },
  {
   "cell_type": "code",
   "execution_count": null,
   "metadata": {},
   "outputs": [],
   "source": [
    "\n",
    "con.close()\n",
    "con= sqlite3.connect('courses.db')\n",
    "cur = con.cursor()\n",
    "#cur.execute(\"DELETE FROM data WHERE code NOTNULL\")\n",
    "z = cur.execute(\"SELECT code,COUNT(*) from data group by code\")\n",
    "for row in z:\n",
    "    print(z)"
   ]
  },
  {
   "cell_type": "code",
   "execution_count": null,
   "metadata": {},
   "outputs": [],
   "source": [
    "for code in codes:\n",
    "    results = cur.execute(\"SELECT * from data where subj=(?) and code=(?) order by code, num\",('COSI', code ))\n",
    "    print(\"Year \",code)\n",
    "    for row in results:\n",
    "        print(row)\n",
    "    print('------',end=\"\\n\\n\")\n"
   ]
  },
  {
   "cell_type": "code",
   "execution_count": null,
   "metadata": {},
   "outputs": [],
   "source": [
    "results = cur.execute(\"SELECT num, suf, title, inst from data where subj=(?) and code=(?)\",('COSI', 1051))\n",
    "for row in results:\n",
    "    print(row)"
   ]
  },
  {
   "cell_type": "code",
   "execution_count": null,
   "metadata": {},
   "outputs": [],
   "source": [
    "results = cur.execute(\"SELECT inst,sum(enr) as n from data where subj=(?) group by inst order by n desc\",('COSI', ))\n",
    "for row in results:\n",
    "    print(row)"
   ]
  },
  {
   "cell_type": "code",
   "execution_count": null,
   "metadata": {},
   "outputs": [],
   "source": [
    "results = cur.execute(\"SELECT term,code,sum(enr) as n from data where subj=(?) group by code order by code\",('COSI', ))\n",
    "for row in results:\n",
    "    print(row)"
   ]
  },
  {
   "cell_type": "code",
   "execution_count": null,
   "metadata": {},
   "outputs": [],
   "source": [
    "con.commit()\n",
    "con.close()"
   ]
  },
  {
   "cell_type": "code",
   "execution_count": null,
   "metadata": {},
   "outputs": [],
   "source": []
  }
 ],
 "metadata": {
  "kernelspec": {
   "display_name": "Python 3",
   "language": "python",
   "name": "python3"
  },
  "language_info": {
   "codemirror_mode": {
    "name": "ipython",
    "version": 3
   },
   "file_extension": ".py",
   "mimetype": "text/x-python",
   "name": "python",
   "nbconvert_exporter": "python",
   "pygments_lexer": "ipython3",
   "version": "3.8.5"
  }
 },
 "nbformat": 4,
 "nbformat_minor": 4
}
