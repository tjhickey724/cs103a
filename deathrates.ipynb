{
 "cells": [
  {
   "cell_type": "markdown",
   "metadata": {},
   "source": [
    "# Analysis of Causes of Death in the US from 1900-2018\n",
    "The data comes from the National Center for Health Statistics and the site for this particular data is\n",
    "[https://data.cdc.gov/NCHS/NCHS-Age-adjusted-Death-Rates-for-Selected-Major-C/6rkc-nb2q]\n",
    "We've downloaded the data and stored it in ./data/deathrates.csv\n",
    "\n",
    "The goal of this notebook is to give an example of how to use pandas and numpy to answer questions about a fairly large and interesting dataset.\n",
    "\n",
    "The main question we want to answer is:\n",
    "* How have the five main causes of death in the US changed in the past 118 years?\n",
    "\n",
    "We will answer this by loading the data into a pandas data frame and then using pandas to create a plot\n",
    "with each cause of death being a line plot and the x axis is the age adjusted death rate for that cause.\n",
    "\n",
    "The more general skill we are hoping you will learn is how to use the pandas and numpy documentation to learn how to do more analysis that we can teach in this course.  Here is the pandas user manual\n",
    "* https://pandas.pydata.org/docs/user_guide/index.html\n",
    "\n",
    "and here is the numpy user guide\n",
    "* https://numpy.org/doc/stable/user/index.html\n"
   ]
  },
  {
   "cell_type": "code",
   "execution_count": null,
   "metadata": {},
   "outputs": [],
   "source": [
    "import numpy as np\n",
    "import pandas as pd\n",
    "import matplotlib.pyplot as plt"
   ]
  },
  {
   "cell_type": "markdown",
   "metadata": {},
   "source": [
    "# reading the data into a data frame\n",
    "We use the pd.read_csv function to read in the data.\n",
    "It has three columns (Series)\n",
    "* Year - an integer\n",
    "* Cauase - a string\n",
    "* Age Adjusted Death Rate - a float\n",
    "\n",
    "There are 595 rows"
   ]
  },
  {
   "cell_type": "code",
   "execution_count": null,
   "metadata": {},
   "outputs": [],
   "source": [
    "df = pd.read_csv('data/deathrates.csv')\n",
    "df"
   ]
  },
  {
   "cell_type": "markdown",
   "metadata": {},
   "source": [
    "# Getting the causes\n",
    "we can pull out one column from the table using the [] notation."
   ]
  },
  {
   "cell_type": "code",
   "execution_count": null,
   "metadata": {},
   "outputs": [],
   "source": [
    "df['Cause']"
   ]
  },
  {
   "cell_type": "markdown",
   "metadata": {},
   "source": [
    "and we can use the .unique() method to get the array of 5 unique values for cause and 2018 unique values for year"
   ]
  },
  {
   "cell_type": "code",
   "execution_count": null,
   "metadata": {},
   "outputs": [],
   "source": [
    "causes = df['Cause'].unique()\n",
    "causes"
   ]
  },
  {
   "cell_type": "code",
   "execution_count": null,
   "metadata": {},
   "outputs": [],
   "source": [
    "df['Year'].unique()"
   ]
  },
  {
   "cell_type": "markdown",
   "metadata": {},
   "source": [
    "# Selecting a subset of rows\n",
    "We can select just those rows for Heart Disease using the boolean selector notation\n",
    "```\n",
    "df[df[COLUMN]==VALUE]\n",
    "```\n",
    "\n"
   ]
  },
  {
   "cell_type": "code",
   "execution_count": null,
   "metadata": {},
   "outputs": [],
   "source": [
    "d1 = df[df['Cause']=='Heart Disease']\n",
    "d1"
   ]
  },
  {
   "cell_type": "markdown",
   "metadata": {},
   "source": [
    "# making the plot\n",
    "We now know how to pull out just the rows we want for each cause\n",
    "and to pull out the series for the year and for the death rate for those rows\n",
    "which is all we need to know to be able to plot the data."
   ]
  },
  {
   "cell_type": "code",
   "execution_count": null,
   "metadata": {},
   "outputs": [],
   "source": [
    "plt.figure(figsize=(15,10))\n",
    "for cause in causes:\n",
    "    d1 = df[df['Cause']==cause]  # remove all rows except those with the specified cause\n",
    "    # plot the year vs the death rate, labeled with the cause\n",
    "    plt.plot(d1['Year'],d1['Age Adjusted Death Rate'],label=cause)\n",
    "plt.legend()\n",
    "plt.grid()"
   ]
  },
  {
   "cell_type": "markdown",
   "metadata": {},
   "source": [
    "# Discussion of results\n",
    "We see that there was a big spike for Influenza and Pneumonia around 1918. This was the Spanish Flu pandemic (which probably started in the US).\n",
    "We also see that Heart Disase peaked around 1950 but stroke and accidents steadily fell.\n",
    "Cancer steadily rose until about 1990 when it started to fall.\n",
    "The more interesting questions, which this data will not tell us, is why do we observe these patterns!\n"
   ]
  },
  {
   "cell_type": "code",
   "execution_count": null,
   "metadata": {},
   "outputs": [],
   "source": []
  },
  {
   "cell_type": "markdown",
   "metadata": {},
   "source": [
    "# A simpler approach to this analysis\n",
    "Here we show how to use pivot tables to plot the data in a more elegant way.\n",
    "Notice that our data tables has a Cause column with 5 possible values. \n"
   ]
  },
  {
   "cell_type": "code",
   "execution_count": null,
   "metadata": {},
   "outputs": [],
   "source": [
    "df\n"
   ]
  },
  {
   "cell_type": "markdown",
   "metadata": {},
   "source": [
    "# Creating a pivot table\n",
    "We can create a \"pivot table\" in which those causes are the column headers and the values\n",
    "stored in the columns are the death rates."
   ]
  },
  {
   "cell_type": "code",
   "execution_count": null,
   "metadata": {},
   "outputs": [],
   "source": [
    "df2 = pd.pivot_table(df, values=\"Age Adjusted Death Rate\", index=[\"Year\"], columns=[\"Cause\"])\n",
    "df2"
   ]
  },
  {
   "cell_type": "markdown",
   "metadata": {},
   "source": [
    "# Plotting a pivot table\n",
    "Now that we have a table where the index is the year, and the columns contain the data we want to plot,\n",
    "we can use the built-in plot method (which calls matplotlib.pyplot.plot behind the scenes)"
   ]
  },
  {
   "cell_type": "code",
   "execution_count": null,
   "metadata": {},
   "outputs": [],
   "source": [
    "df2.plot(figsize=(15,10))\n",
    "plt.grid()\n",
    "plt.title('Changes in most common deaths in the 1900s')\n",
    "plt.xlabel('year')\n",
    "plt.ylabel('age adjusted death rate per 100,000')"
   ]
  },
  {
   "cell_type": "markdown",
   "metadata": {},
   "source": [
    "# More info on pandas plotting\n",
    "We can get more info on pandas plotting using this command\n",
    "```\n",
    "help(df2.plot)\n",
    "```\n",
    "or looking  at the [pandas API reference for plot](https://pandas.pydata.org/docs/reference/api/pandas.DataFrame.plot.html)\n"
   ]
  },
  {
   "cell_type": "code",
   "execution_count": null,
   "metadata": {},
   "outputs": [],
   "source": [
    "\n"
   ]
  },
  {
   "cell_type": "code",
   "execution_count": null,
   "metadata": {},
   "outputs": [],
   "source": []
  }
 ],
 "metadata": {
  "kernelspec": {
   "display_name": "Python 3",
   "language": "python",
   "name": "python3"
  },
  "language_info": {
   "codemirror_mode": {
    "name": "ipython",
    "version": 3
   },
   "file_extension": ".py",
   "mimetype": "text/x-python",
   "name": "python",
   "nbconvert_exporter": "python",
   "pygments_lexer": "ipython3",
   "version": "3.8.5"
  }
 },
 "nbformat": 4,
 "nbformat_minor": 4
}
