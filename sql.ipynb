{
 "cells": [
  {
   "cell_type": "code",
   "execution_count": null,
   "metadata": {},
   "outputs": [],
   "source": []
  },
  {
   "cell_type": "code",
   "execution_count": null,
   "metadata": {},
   "outputs": [],
   "source": []
  },
  {
   "cell_type": "code",
   "execution_count": null,
   "metadata": {},
   "outputs": [],
   "source": []
  },
  {
   "cell_type": "code",
   "execution_count": 7,
   "metadata": {},
   "outputs": [],
   "source": [
    "import sqlite3\n",
    "import csv\n",
    "\n",
    "con = sqlite3.connect('babynames.db')\n",
    "cur = con.cursor()\n",
    "cur.execute(\"DROP TABLE IF EXISTS babynames\")\n",
    "cur.execute(\"CREATE TABLE IF NOT EXISTS babynames (year int, name text, percent real, sex text)\")\n",
    "con.commit()\n",
    "con.close()\n",
    "\n",
    "# load data\n",
    "csvfile = open('data/baby-names.csv','r')\n",
    "reader = csv.DictReader(csvfile)\n",
    "data = [row for row in reader]\n",
    "csvfile.close()\n",
    "\n",
    "# clean data\n",
    "for d in data:\n",
    "    d['year'] = int(d['year'])\n",
    "    d['percent'] = float(d['percent'])\n",
    "\n",
    "# insert in table\n",
    "con = sqlite3.connect('babynames.db')\n",
    "cur = con.cursor()\n",
    "for d in data:\n",
    "  cur.execute(\"INSERT INTO babynames VALUES(?,?,?,?)\",tuple(d.values()))\n",
    "con.commit()\n",
    "con.close()"
   ]
  },
  {
   "cell_type": "code",
   "execution_count": 8,
   "metadata": {},
   "outputs": [],
   "source": [
    "con = sqlite3.connect('babynames.db')\n",
    "cur = con.cursor()\n",
    "cur.execute(\"select name,count(*) as n from babynames where percent>0.03 group by name order by n desc\")\n",
    "z = cur.fetchall()\n",
    "con.commit()\n",
    "con.close()"
   ]
  },
  {
   "cell_type": "code",
   "execution_count": 9,
   "metadata": {},
   "outputs": [
    {
     "data": {
      "text/plain": [
       "[('James', 92),\n",
       " ('John', 91),\n",
       " ('Mary', 76),\n",
       " ('William', 74),\n",
       " ('Robert', 57),\n",
       " ('Michael', 42),\n",
       " ('George', 25),\n",
       " ('David', 24),\n",
       " ('Richard', 15),\n",
       " ('Charles', 15),\n",
       " ('Jennifer', 13),\n",
       " ('Linda', 9),\n",
       " ('Barbara', 7),\n",
       " ('Betty', 6),\n",
       " ('Jason', 5),\n",
       " ('Dorothy', 5),\n",
       " ('Christopher', 5),\n",
       " ('Helen', 4),\n",
       " ('Lisa', 3),\n",
       " ('Shirley', 2),\n",
       " ('Patricia', 1)]"
      ]
     },
     "execution_count": 9,
     "metadata": {},
     "output_type": "execute_result"
    }
   ],
   "source": [
    "z"
   ]
  },
  {
   "cell_type": "code",
   "execution_count": null,
   "metadata": {},
   "outputs": [],
   "source": []
  }
 ],
 "metadata": {
  "kernelspec": {
   "display_name": "Python 3",
   "language": "python",
   "name": "python3"
  },
  "language_info": {
   "codemirror_mode": {
    "name": "ipython",
    "version": 3
   },
   "file_extension": ".py",
   "mimetype": "text/x-python",
   "name": "python",
   "nbconvert_exporter": "python",
   "pygments_lexer": "ipython3",
   "version": "3.8.5"
  }
 },
 "nbformat": 4,
 "nbformat_minor": 4
}
