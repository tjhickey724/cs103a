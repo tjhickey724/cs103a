{
 "cells": [
  {
   "cell_type": "code",
   "execution_count": null,
   "metadata": {},
   "outputs": [],
   "source": []
  },
  {
   "cell_type": "code",
   "execution_count": 4,
   "metadata": {},
   "outputs": [],
   "source": [
    "import sqlite3\n",
    "import csv"
   ]
  },
  {
   "cell_type": "code",
   "execution_count": 2,
   "metadata": {},
   "outputs": [],
   "source": [
    "con = sqlite3.connect('babynames.db')\n",
    "cur = con.cursor()\n",
    "cur.execute(\"CREATE TABLE IF NOT EXISTS babynames (year int, name text, percent real, sex text)\")\n",
    "con.commit()\n",
    "con.close()"
   ]
  },
  {
   "cell_type": "code",
   "execution_count": 5,
   "metadata": {},
   "outputs": [],
   "source": [
    "# load data\n",
    "csvfile = open('data/baby-names.csv','r')\n",
    "reader = csv.DictReader(csvfile)\n",
    "data = [row for row in reader]\n",
    "csvfile.close()\n",
    "\n",
    "# clean data\n",
    "for d in data:\n",
    "    d['year'] = int(d['year'])\n",
    "    d['percent'] = float(d['percent'])\n",
    "\n",
    "# insert in table\n",
    "con = sqlite3.connect('babynames.db')\n",
    "cur = con.cursor()\n",
    "for d in data:\n",
    "  cur.execute(\"INSERT INTO babynames VALUES(?,?,?,?)\",tuple(d.values()))\n",
    "con.commit()\n",
    "con.close()"
   ]
  },
  {
   "cell_type": "code",
   "execution_count": 23,
   "metadata": {},
   "outputs": [],
   "source": [
    "con = sqlite3.connect('babynames.db')\n",
    "cur = con.cursor()\n",
    "cur.execute(\"select name,count(*),max(year) from babynames where percent>0.03 group by name\")\n",
    "z = cur.fetchall()\n",
    "con.commit()\n",
    "con.close()"
   ]
  },
  {
   "cell_type": "code",
   "execution_count": 24,
   "metadata": {},
   "outputs": [
    {
     "data": {
      "text/plain": [
       "[('Barbara', 7, 1943),\n",
       " ('Betty', 6, 1933),\n",
       " ('Charles', 15, 1894),\n",
       " ('Christopher', 5, 1985),\n",
       " ('David', 24, 1970),\n",
       " ('Dorothy', 5, 1925),\n",
       " ('George', 25, 1904),\n",
       " ('Helen', 4, 1918),\n",
       " ('James', 92, 1971),\n",
       " ('Jason', 5, 1978),\n",
       " ('Jennifer', 13, 1983),\n",
       " ('John', 91, 1970),\n",
       " ('Linda', 9, 1953),\n",
       " ('Lisa', 3, 1967),\n",
       " ('Mary', 76, 1955),\n",
       " ('Michael', 42, 1990),\n",
       " ('Patricia', 1, 1951),\n",
       " ('Richard', 15, 1947),\n",
       " ('Robert', 57, 1970),\n",
       " ('Shirley', 2, 1936),\n",
       " ('William', 74, 1953)]"
      ]
     },
     "execution_count": 24,
     "metadata": {},
     "output_type": "execute_result"
    }
   ],
   "source": [
    "z"
   ]
  },
  {
   "cell_type": "code",
   "execution_count": null,
   "metadata": {},
   "outputs": [],
   "source": []
  }
 ],
 "metadata": {
  "kernelspec": {
   "display_name": "Python 3",
   "language": "python",
   "name": "python3"
  },
  "language_info": {
   "codemirror_mode": {
    "name": "ipython",
    "version": 3
   },
   "file_extension": ".py",
   "mimetype": "text/x-python",
   "name": "python",
   "nbconvert_exporter": "python",
   "pygments_lexer": "ipython3",
   "version": "3.8.5"
  }
 },
 "nbformat": 4,
 "nbformat_minor": 4
}
