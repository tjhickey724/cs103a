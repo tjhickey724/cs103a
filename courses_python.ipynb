{
 "cells": [
  {
   "cell_type": "markdown",
   "metadata": {},
   "source": [
    "# Course Data Analysis using Python\n",
    "Here we analyze "
   ]
  },
  {
   "cell_type": "code",
   "execution_count": 7,
   "metadata": {},
   "outputs": [],
   "source": [
    "import json\n",
    "import csv"
   ]
  },
  {
   "cell_type": "code",
   "execution_count": 8,
   "metadata": {},
   "outputs": [
    {
     "name": "stdout",
     "output_type": "stream",
     "text": [
      "35206\n"
     ]
    }
   ],
   "source": [
    "with open(\"data/courses.csv\",'r') as csvfile:\n",
    "    reader = csv.DictReader(csvfile)\n",
    "    courses = [row for row in reader]\n",
    "    csvfile.close()\n",
    "print(len(courses))"
   ]
  },
  {
   "cell_type": "code",
   "execution_count": 9,
   "metadata": {},
   "outputs": [
    {
     "data": {
      "text/plain": [
       "{'subj': 'NEJS',\n",
       " 'num': '188',\n",
       " 'suf': 'A',\n",
       " 'format': 'LEC',\n",
       " 'term': 'Fall 2004',\n",
       " 'code': '1043',\n",
       " 'inst': 'Levy, Avigdor',\n",
       " 'title': 'RISE/DECLINE:OTTOMAN EMP',\n",
       " 'sec': '1',\n",
       " 'enr': '32'}"
      ]
     },
     "execution_count": 9,
     "metadata": {},
     "output_type": "execute_result"
    }
   ],
   "source": [
    "courses[0]"
   ]
  },
  {
   "cell_type": "code",
   "execution_count": 23,
   "metadata": {},
   "outputs": [
    {
     "name": "stdout",
     "output_type": "stream",
     "text": [
      "len= 5\n"
     ]
    },
    {
     "data": {
      "text/plain": [
       "['LAB', 'LEC', 'NCA', 'SEM', 'STD']"
      ]
     },
     "execution_count": 23,
     "metadata": {},
     "output_type": "execute_result"
    }
   ],
   "source": [
    "vals = sorted({c['format'] for c in courses})\n",
    "print('len=',len(vals))\n",
    "vals[:10]"
   ]
  },
  {
   "cell_type": "code",
   "execution_count": null,
   "metadata": {},
   "outputs": [],
   "source": []
  }
 ],
 "metadata": {
  "kernelspec": {
   "display_name": "Python 3",
   "language": "python",
   "name": "python3"
  },
  "language_info": {
   "codemirror_mode": {
    "name": "ipython",
    "version": 3
   },
   "file_extension": ".py",
   "mimetype": "text/x-python",
   "name": "python",
   "nbconvert_exporter": "python",
   "pygments_lexer": "ipython3",
   "version": "3.8.5"
  }
 },
 "nbformat": 4,
 "nbformat_minor": 4
}
