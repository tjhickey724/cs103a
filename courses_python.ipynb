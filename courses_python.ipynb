{
 "cells": [
  {
   "cell_type": "markdown",
   "metadata": {},
   "source": [
    "# Course Data Analysis using Python and matplotlib.pyplot\n",
    "Here we show how to do some analysis of Brandeis course data from 2004 to 2021 using matplotlib.pyplt to plot the results.\n",
    "\n",
    "References:\n",
    "https://matplotlib.org/stable/tutorials/introductory/usage.html#sphx-glr-tutorials-introductory-usage-py\n"
   ]
  },
  {
   "cell_type": "code",
   "execution_count": null,
   "metadata": {},
   "outputs": [],
   "source": [
    "import json\n",
    "import csv\n",
    "import matplotlib.pyplot as plt\n",
    "import matplotlib as mpl\n",
    "import numpy as np"
   ]
  },
  {
   "cell_type": "code",
   "execution_count": null,
   "metadata": {},
   "outputs": [],
   "source": []
  },
  {
   "cell_type": "markdown",
   "metadata": {},
   "source": [
    "# Reading in the data\n",
    "We have a data set of all Brandeis courses from 2004-2021\n",
    "Let's load it into a list of dictionaries and look at the first entry courses[0]"
   ]
  },
  {
   "cell_type": "code",
   "execution_count": null,
   "metadata": {},
   "outputs": [],
   "source": [
    "with open(\"data/courses.csv\",'r') as csvfile:\n",
    "    reader = csv.DictReader(csvfile)\n",
    "    courses = [row for row in reader]\n",
    "    csvfile.close()\n",
    "print(len(courses))\n",
    "courses[0]"
   ]
  },
  {
   "cell_type": "markdown",
   "metadata": {},
   "source": [
    "# Clean the data\n",
    "In this case, it will help us if we make the enrollments integers instead of strings"
   ]
  },
  {
   "cell_type": "code",
   "execution_count": null,
   "metadata": {},
   "outputs": [],
   "source": [
    "for c in courses:\n",
    "    c['enr']=int(c['enr'])\n",
    "courses[-1]"
   ]
  },
  {
   "cell_type": "markdown",
   "metadata": {},
   "source": [
    "# Calculating enrollments by term\n",
    "Next lets look at the terms and the calculate the enrollments for each term\n",
    "which we can then plot in various ways"
   ]
  },
  {
   "cell_type": "code",
   "execution_count": null,
   "metadata": {},
   "outputs": [],
   "source": [
    "vals = sorted({(c['code'],c['term']) for c in courses})\n",
    "codes = [t[0] for t in vals]\n",
    "terms = [t[1] for t in vals]\n",
    "\n",
    "print('len=',len(vals))\n",
    "print('code/term tuples=',vals)\n",
    "print('....')\n",
    "\n",
    "print('codes = ',codes)\n",
    "print('....')\n",
    "\n",
    "print('terms = ',terms)\n",
    "print('....')\n",
    "\n",
    "enrolled_by_term = [sum(  [c['enr'] for c in courses if c['code']==t]  ) \n",
    "                    for t in codes]\n",
    "print('number enrolled by term=',len(enrolled_by_term))\n",
    "print('....')\n",
    "print(enrolled_by_term)\n"
   ]
  },
  {
   "cell_type": "markdown",
   "metadata": {},
   "source": [
    "# Object-Oriented Style of plotting\n",
    "There are two approaches to using matplotlib to plot. \n",
    "The first is the object-oriented style shown below, where we explicitly create the figure and axes\n",
    "and use their methods to do the plotting."
   ]
  },
  {
   "cell_type": "code",
   "execution_count": null,
   "metadata": {},
   "outputs": [],
   "source": [
    "fig,ax = plt.subplots(figsize=(20,15))\n",
    "\n",
    "ax.barh(terms, enrolled_by_term)\n",
    "ax.set_xlabel(\"enrollments\",fontsize=20)\n",
    "ax.set_ylabel(\"term\",fontsize=20)\n",
    "ax.set_title(\"Enrollments by term\",fontsize=32)\n",
    "fig.savefig(\"images/enrollments_by_term.png\")\n",
    "'done'"
   ]
  },
  {
   "cell_type": "markdown",
   "metadata": {},
   "source": [
    "# Pyplot approach\n",
    "The other approach is to let pyplot create the figure and axes for you and to do everything with calls to pyplot methods. It is good to know both approaches so you can understand matplotlib code when you see it."
   ]
  },
  {
   "cell_type": "code",
   "execution_count": null,
   "metadata": {},
   "outputs": [],
   "source": [
    "\n",
    "plt.figure(figsize=(20,15))\n",
    "plt.barh(terms,enrolled_by_term)\n",
    "plt.grid()\n",
    "plt.title(\"enrollments by term Fall 2004 - Summer 2021\",fontsize=16)\n",
    "plt.savefig(\"images/enrollments by term\")"
   ]
  },
  {
   "cell_type": "markdown",
   "metadata": {},
   "source": [
    "# Enrollments by academic year\n",
    "Next lets fold the fall, spring, and summer semesters together and plot by academic year!"
   ]
  },
  {
   "cell_type": "code",
   "execution_count": null,
   "metadata": {},
   "outputs": [],
   "source": [
    "def academic_year(term):\n",
    "    ''' returns the academic year given the term, e.g. 1173, 1181, 1182 all go to 2017-18 '''\n",
    "    year1 = int(term[1:-1])\n",
    "    year2 = year1\n",
    "    semester = term[-1]\n",
    "    if (semester==\"3\"):\n",
    "        year2 = year1+1\n",
    "    else:\n",
    "        year1 = year2-1\n",
    "    return \"20%02d-%02d\"%(year1,year2)\n",
    "\n",
    "academic_years = [academic_year(t) for t in codes]\n",
    "print(academic_years)\n",
    "academic_years = academic_years[0::3]\n",
    "print(academic_years)"
   ]
  },
  {
   "cell_type": "code",
   "execution_count": null,
   "metadata": {},
   "outputs": [],
   "source": [
    "\n",
    "enrolled_by_year = [sum([int(c['enr']) for c in courses if academic_year(c['code'])==year]) for year in academic_years]\n",
    "print(enrolled_by_year)"
   ]
  },
  {
   "cell_type": "code",
   "execution_count": null,
   "metadata": {},
   "outputs": [],
   "source": [
    "plt.figure(figsize=(20,10))\n",
    "#plt.plot(range(2004,2021),enrolled_by_year)\n",
    "plt.bar(range(2004,2021),enrolled_by_year)\n",
    "plt.grid()\n",
    "plt.xticks(range(2003,2021))\n",
    "plt.axis([2003,2022,0,50000])\n",
    "'done'"
   ]
  },
  {
   "cell_type": "code",
   "execution_count": null,
   "metadata": {},
   "outputs": [],
   "source": []
  }
 ],
 "metadata": {
  "kernelspec": {
   "display_name": "Python 3",
   "language": "python",
   "name": "python3"
  },
  "language_info": {
   "codemirror_mode": {
    "name": "ipython",
    "version": 3
   },
   "file_extension": ".py",
   "mimetype": "text/x-python",
   "name": "python",
   "nbconvert_exporter": "python",
   "pygments_lexer": "ipython3",
   "version": "3.8.5"
  }
 },
 "nbformat": 4,
 "nbformat_minor": 4
}
