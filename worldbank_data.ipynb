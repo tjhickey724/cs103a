{
 "cells": [
  {
   "cell_type": "markdown",
   "metadata": {},
   "source": [
    "# Worldbank data on China, US, Russia, and Ukraine\n",
    "The data comes from these sites:\n",
    "* [China](https://data.worldbank.org/country/china?view=chart)\n",
    "* [US](https://data.worldbank.org/country/us?view=chart)\n",
    "* [Russia](https://data.worldbank.org/country/russian-federation?view=chart)\n",
    "* [Ukraine](https://data.worldbank.org/country/ukraine?view=chart)\n",
    "\n",
    "They also have the same data on [every other country in the world](https://data.worldbank.org/country)!\n",
    "\n",
    "First we need to import the libraries we will use\n"
   ]
  },
  {
   "cell_type": "code",
   "execution_count": null,
   "metadata": {},
   "outputs": [],
   "source": [
    "import numpy as np\n",
    "import pandas as pd\n",
    "import matplotlib.pyplot as plt"
   ]
  },
  {
   "cell_type": "markdown",
   "metadata": {},
   "source": [
    "# Read in the data, but skip the 3 header rows\n",
    "Keep the 4th row which has the column names though!"
   ]
  },
  {
   "cell_type": "code",
   "execution_count": null,
   "metadata": {},
   "outputs": [],
   "source": [
    "china_df = pd.read_csv('data/china-worldbank-data/china_data.csv',skiprows=3)\n",
    "us_df = pd.read_csv('data/us-worldbank-data/us_data.csv',skiprows=3)\n",
    "russia_df = pd.read_csv('data/russia-worldbank-data/russia_data.csv',skiprows=3)\n",
    "ukraine_df = pd.read_csv('data/ukraine-worldbank-data/ukraine_data.csv',skiprows=3)\n",
    "us_df\n"
   ]
  },
  {
   "cell_type": "markdown",
   "metadata": {},
   "source": [
    "# Use df.iloc[k] to look at the kth row of the data frame"
   ]
  },
  {
   "cell_type": "code",
   "execution_count": null,
   "metadata": {},
   "outputs": [],
   "source": [
    "row0 = china_df.iloc[0]\n",
    "row0"
   ]
  },
  {
   "cell_type": "code",
   "execution_count": null,
   "metadata": {},
   "outputs": [],
   "source": [
    "row0 = china_df.iloc[0]\n",
    "for key in china_df.columns:\n",
    "    print(key,row0[key])"
   ]
  },
  {
   "cell_type": "markdown",
   "metadata": {},
   "source": [
    "# Search for indicators of interest\n",
    "The following function will return the row number and indicator name for all indicators containing a phrase."
   ]
  },
  {
   "cell_type": "code",
   "execution_count": null,
   "metadata": {},
   "outputs": [],
   "source": [
    "def find_rows(df,phrase):\n",
    "    for i in range(len(df)):\n",
    "        indicator = df.iloc[i]['Indicator Name']\n",
    "        if phrase in indicator:\n",
    "            print(i,indicator)\n"
   ]
  },
  {
   "cell_type": "markdown",
   "metadata": {},
   "source": [
    "# Comparing CO2 emissions\n",
    "We can now look for worldbank information about CO2 emissions from the various countries"
   ]
  },
  {
   "cell_type": "code",
   "execution_count": null,
   "metadata": {},
   "outputs": [],
   "source": [
    "\n",
    "find_rows(china_df,'')"
   ]
  },
  {
   "cell_type": "code",
   "execution_count": null,
   "metadata": {},
   "outputs": [],
   "source": [
    "find_rows(us_df,'CO2 emissions (kt)')"
   ]
  },
  {
   "cell_type": "code",
   "execution_count": null,
   "metadata": {},
   "outputs": [],
   "source": [
    "find_rows(russia_df,'CO2 emissions (kt)')"
   ]
  },
  {
   "cell_type": "code",
   "execution_count": null,
   "metadata": {},
   "outputs": [],
   "source": [
    "find_rows(ukraine_df,'CO2 emissions (kt)')"
   ]
  },
  {
   "cell_type": "markdown",
   "metadata": {},
   "source": [
    "# Plot the data\n",
    "Once we know which rows the data appears on we can select out the data for the years from 1960 to 20210 and plot that data!"
   ]
  },
  {
   "cell_type": "code",
   "execution_count": null,
   "metadata": {},
   "outputs": [],
   "source": [
    "def plot_indicator(df,row,label):\n",
    "    plt.plot(range(1960,2021),df.iloc[row]['1960':'2020'],label=label)\n",
    "plt.figure(figsize=(15,10))\n",
    "plot_indicator(china_df,314,'china')\n",
    "plot_indicator(us_df,1375,'us')\n",
    "plot_indicator(russia_df,1336,'russia')\n",
    "plot_indicator(ukraine_df,639,'ukraine')\n",
    "plt.legend()\n",
    "plt.grid()\n",
    "plt.title('CO2 emissions kt')\n",
    "    "
   ]
  },
  {
   "cell_type": "markdown",
   "metadata": {},
   "source": [
    "# Discussion\n",
    "We see that Russian emissions dropped by half in 1990-91, but that's because the USSR was broken up into a dozen republics!\n",
    "\n",
    "The US and Ukrainian CO2 emissiona are actually going down in the last 20 years, but China rose rapidly from 1990-2010 and then flattened out.\n",
    "\n",
    "We don't know why, we could then look at GDP/person and see if perhaps the rising standard of living in China is what drove that increase."
   ]
  },
  {
   "cell_type": "code",
   "execution_count": null,
   "metadata": {},
   "outputs": [],
   "source": []
  },
  {
   "cell_type": "code",
   "execution_count": null,
   "metadata": {},
   "outputs": [],
   "source": [
    "# GDP (constant 2015 US$) \n",
    "# US 898   China 47  Russia 394 Ukraine 701\n",
    "find_rows(us_df,'GDP (constant 2015 US$)')"
   ]
  },
  {
   "cell_type": "code",
   "execution_count": null,
   "metadata": {},
   "outputs": [],
   "source": [
    "plt.figure(figsize=(15,10))\n",
    "#plot_indicator(us_df,898,'us')\n",
    "#plot_indicator(china_df,47,'china')\n",
    "plot_indicator(russia_df,394,'russia')\n",
    "plot_indicator(ukraine_df,701,'ukraine')\n",
    "plt.legend()\n",
    "plt.grid()\n",
    "plt.title(\"GDP (constant 2015 US$) \",fontsize=32)\n"
   ]
  },
  {
   "cell_type": "code",
   "execution_count": null,
   "metadata": {},
   "outputs": [],
   "source": [
    "china_df.iloc[47]"
   ]
  },
  {
   "cell_type": "code",
   "execution_count": null,
   "metadata": {},
   "outputs": [],
   "source": []
  }
 ],
 "metadata": {
  "kernelspec": {
   "display_name": "Python 3",
   "language": "python",
   "name": "python3"
  },
  "language_info": {
   "codemirror_mode": {
    "name": "ipython",
    "version": 3
   },
   "file_extension": ".py",
   "mimetype": "text/x-python",
   "name": "python",
   "nbconvert_exporter": "python",
   "pygments_lexer": "ipython3",
   "version": "3.8.5"
  }
 },
 "nbformat": 4,
 "nbformat_minor": 4
}
