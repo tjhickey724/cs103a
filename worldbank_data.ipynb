{
 "cells": [
  {
   "cell_type": "markdown",
   "metadata": {},
   "source": [
    "# Worldbank data on China, US, Russia, and Ukraine\n",
    "The data comes from these sites:\n",
    "* [China](https://data.worldbank.org/country/china?view=chart)\n",
    "* [US](https://data.worldbank.org/country/us?view=chart)\n",
    "* [Russia](https://data.worldbank.org/country/russian-federation?view=chart)\n",
    "* [Ukraine](https://data.worldbank.org/country/ukraine?view=chart)\n",
    "\n",
    "They also have the same data on [every other country in the world](https://data.worldbank.org/country)!\n",
    "\n",
    "First we need to import the libraries we will use\n"
   ]
  },
  {
   "cell_type": "code",
   "execution_count": 2,
   "metadata": {},
   "outputs": [],
   "source": [
    "import numpy as np\n",
    "import pandas as pd\n",
    "import matplotlib.pyplot as plt"
   ]
  },
  {
   "cell_type": "markdown",
   "metadata": {},
   "source": [
    "# Read in the data, but skip the 3 header rows\n",
    "Keep the 4th row which has the column names though!"
   ]
  },
  {
   "cell_type": "code",
   "execution_count": 3,
   "metadata": {},
   "outputs": [
    {
     "data": {
      "text/html": [
       "<div>\n",
       "<style scoped>\n",
       "    .dataframe tbody tr th:only-of-type {\n",
       "        vertical-align: middle;\n",
       "    }\n",
       "\n",
       "    .dataframe tbody tr th {\n",
       "        vertical-align: top;\n",
       "    }\n",
       "\n",
       "    .dataframe thead th {\n",
       "        text-align: right;\n",
       "    }\n",
       "</style>\n",
       "<table border=\"1\" class=\"dataframe\">\n",
       "  <thead>\n",
       "    <tr style=\"text-align: right;\">\n",
       "      <th></th>\n",
       "      <th>Country Name</th>\n",
       "      <th>Country Code</th>\n",
       "      <th>Indicator Name</th>\n",
       "      <th>Indicator Code</th>\n",
       "      <th>1960</th>\n",
       "      <th>1961</th>\n",
       "      <th>1962</th>\n",
       "      <th>1963</th>\n",
       "      <th>1964</th>\n",
       "      <th>1965</th>\n",
       "      <th>...</th>\n",
       "      <th>2012</th>\n",
       "      <th>2013</th>\n",
       "      <th>2014</th>\n",
       "      <th>2015</th>\n",
       "      <th>2016</th>\n",
       "      <th>2017</th>\n",
       "      <th>2018</th>\n",
       "      <th>2019</th>\n",
       "      <th>2020</th>\n",
       "      <th>Unnamed: 65</th>\n",
       "    </tr>\n",
       "  </thead>\n",
       "  <tbody>\n",
       "    <tr>\n",
       "      <th>0</th>\n",
       "      <td>United States</td>\n",
       "      <td>USA</td>\n",
       "      <td>Merchandise exports by the reporting economy (...</td>\n",
       "      <td>TX.VAL.MRCH.WL.CD</td>\n",
       "      <td>2.053500e+10</td>\n",
       "      <td>2.095900e+10</td>\n",
       "      <td>2.161600e+10</td>\n",
       "      <td>2.327500e+10</td>\n",
       "      <td>2.648400e+10</td>\n",
       "      <td>2.737480e+10</td>\n",
       "      <td>...</td>\n",
       "      <td>1.545800e+12</td>\n",
       "      <td>1.578430e+12</td>\n",
       "      <td>1.620480e+12</td>\n",
       "      <td>1.504570e+12</td>\n",
       "      <td>1.453700e+12</td>\n",
       "      <td>1.545610e+12</td>\n",
       "      <td>1.664240e+12</td>\n",
       "      <td>1.641120e+12</td>\n",
       "      <td>NaN</td>\n",
       "      <td>NaN</td>\n",
       "    </tr>\n",
       "    <tr>\n",
       "      <th>1</th>\n",
       "      <td>United States</td>\n",
       "      <td>USA</td>\n",
       "      <td>Fuel exports (% of merchandise exports)</td>\n",
       "      <td>TX.VAL.FUEL.ZS.UN</td>\n",
       "      <td>NaN</td>\n",
       "      <td>NaN</td>\n",
       "      <td>3.751838e+00</td>\n",
       "      <td>4.125064e+00</td>\n",
       "      <td>3.494185e+00</td>\n",
       "      <td>3.505138e+00</td>\n",
       "      <td>...</td>\n",
       "      <td>1.006366e+01</td>\n",
       "      <td>1.076399e+01</td>\n",
       "      <td>1.098568e+01</td>\n",
       "      <td>8.003418e+00</td>\n",
       "      <td>7.578654e+00</td>\n",
       "      <td>1.051045e+01</td>\n",
       "      <td>1.352999e+01</td>\n",
       "      <td>1.419937e+01</td>\n",
       "      <td>12.715991</td>\n",
       "      <td>NaN</td>\n",
       "    </tr>\n",
       "    <tr>\n",
       "      <th>2</th>\n",
       "      <td>United States</td>\n",
       "      <td>USA</td>\n",
       "      <td>Merchandise imports from low- and middle-incom...</td>\n",
       "      <td>TM.VAL.MRCH.R5.ZS</td>\n",
       "      <td>2.189145e+00</td>\n",
       "      <td>2.275933e+00</td>\n",
       "      <td>2.140057e+00</td>\n",
       "      <td>2.296611e+00</td>\n",
       "      <td>2.106731e+00</td>\n",
       "      <td>2.068704e+00</td>\n",
       "      <td>...</td>\n",
       "      <td>2.260342e+00</td>\n",
       "      <td>2.356129e+00</td>\n",
       "      <td>2.430121e+00</td>\n",
       "      <td>2.562576e+00</td>\n",
       "      <td>2.664601e+00</td>\n",
       "      <td>2.598787e+00</td>\n",
       "      <td>2.637101e+00</td>\n",
       "      <td>2.848970e+00</td>\n",
       "      <td>NaN</td>\n",
       "      <td>NaN</td>\n",
       "    </tr>\n",
       "    <tr>\n",
       "      <th>3</th>\n",
       "      <td>United States</td>\n",
       "      <td>USA</td>\n",
       "      <td>Import unit value index (2000 = 100)</td>\n",
       "      <td>TM.UVI.MRCH.XD.WD</td>\n",
       "      <td>NaN</td>\n",
       "      <td>NaN</td>\n",
       "      <td>NaN</td>\n",
       "      <td>NaN</td>\n",
       "      <td>NaN</td>\n",
       "      <td>NaN</td>\n",
       "      <td>...</td>\n",
       "      <td>1.410000e+02</td>\n",
       "      <td>1.395000e+02</td>\n",
       "      <td>1.380000e+02</td>\n",
       "      <td>1.239000e+02</td>\n",
       "      <td>1.198000e+02</td>\n",
       "      <td>1.233000e+02</td>\n",
       "      <td>1.271000e+02</td>\n",
       "      <td>1.255000e+02</td>\n",
       "      <td>122.400000</td>\n",
       "      <td>NaN</td>\n",
       "    </tr>\n",
       "    <tr>\n",
       "      <th>4</th>\n",
       "      <td>United States</td>\n",
       "      <td>USA</td>\n",
       "      <td>Binding coverage, all products (%)</td>\n",
       "      <td>TM.TAX.MRCH.BC.ZS</td>\n",
       "      <td>NaN</td>\n",
       "      <td>NaN</td>\n",
       "      <td>NaN</td>\n",
       "      <td>NaN</td>\n",
       "      <td>NaN</td>\n",
       "      <td>NaN</td>\n",
       "      <td>...</td>\n",
       "      <td>9.998000e+01</td>\n",
       "      <td>9.998000e+01</td>\n",
       "      <td>9.998000e+01</td>\n",
       "      <td>9.998000e+01</td>\n",
       "      <td>9.998000e+01</td>\n",
       "      <td>9.998000e+01</td>\n",
       "      <td>9.998000e+01</td>\n",
       "      <td>9.996000e+01</td>\n",
       "      <td>99.960000</td>\n",
       "      <td>NaN</td>\n",
       "    </tr>\n",
       "    <tr>\n",
       "      <th>...</th>\n",
       "      <td>...</td>\n",
       "      <td>...</td>\n",
       "      <td>...</td>\n",
       "      <td>...</td>\n",
       "      <td>...</td>\n",
       "      <td>...</td>\n",
       "      <td>...</td>\n",
       "      <td>...</td>\n",
       "      <td>...</td>\n",
       "      <td>...</td>\n",
       "      <td>...</td>\n",
       "      <td>...</td>\n",
       "      <td>...</td>\n",
       "      <td>...</td>\n",
       "      <td>...</td>\n",
       "      <td>...</td>\n",
       "      <td>...</td>\n",
       "      <td>...</td>\n",
       "      <td>...</td>\n",
       "      <td>...</td>\n",
       "      <td>...</td>\n",
       "    </tr>\n",
       "    <tr>\n",
       "      <th>1438</th>\n",
       "      <td>United States</td>\n",
       "      <td>USA</td>\n",
       "      <td>Inflation, GDP deflator (annual %)</td>\n",
       "      <td>NY.GDP.DEFL.KD.ZG</td>\n",
       "      <td>NaN</td>\n",
       "      <td>1.350154e+00</td>\n",
       "      <td>1.244635e+00</td>\n",
       "      <td>1.088386e+00</td>\n",
       "      <td>1.503940e+00</td>\n",
       "      <td>1.919826e+00</td>\n",
       "      <td>...</td>\n",
       "      <td>1.917849e+00</td>\n",
       "      <td>1.754916e+00</td>\n",
       "      <td>1.849827e+00</td>\n",
       "      <td>9.525315e-01</td>\n",
       "      <td>1.049247e+00</td>\n",
       "      <td>1.880068e+00</td>\n",
       "      <td>2.400981e+00</td>\n",
       "      <td>1.785152e+00</td>\n",
       "      <td>1.205202</td>\n",
       "      <td>NaN</td>\n",
       "    </tr>\n",
       "    <tr>\n",
       "      <th>1439</th>\n",
       "      <td>United States</td>\n",
       "      <td>USA</td>\n",
       "      <td>Adjusted savings: natural resources depletion ...</td>\n",
       "      <td>NY.ADJ.DRES.GN.ZS</td>\n",
       "      <td>NaN</td>\n",
       "      <td>NaN</td>\n",
       "      <td>NaN</td>\n",
       "      <td>NaN</td>\n",
       "      <td>NaN</td>\n",
       "      <td>NaN</td>\n",
       "      <td>...</td>\n",
       "      <td>3.346421e-01</td>\n",
       "      <td>3.589476e-01</td>\n",
       "      <td>3.046816e-01</td>\n",
       "      <td>4.525314e-02</td>\n",
       "      <td>1.134923e-01</td>\n",
       "      <td>1.912275e-01</td>\n",
       "      <td>3.756121e-01</td>\n",
       "      <td>3.375916e-01</td>\n",
       "      <td>NaN</td>\n",
       "      <td>NaN</td>\n",
       "    </tr>\n",
       "    <tr>\n",
       "      <th>1440</th>\n",
       "      <td>United States</td>\n",
       "      <td>USA</td>\n",
       "      <td>Services, value added (constant LCU)</td>\n",
       "      <td>NV.SRV.TOTL.KN</td>\n",
       "      <td>NaN</td>\n",
       "      <td>NaN</td>\n",
       "      <td>NaN</td>\n",
       "      <td>NaN</td>\n",
       "      <td>NaN</td>\n",
       "      <td>NaN</td>\n",
       "      <td>...</td>\n",
       "      <td>1.313148e+13</td>\n",
       "      <td>1.327693e+13</td>\n",
       "      <td>1.360718e+13</td>\n",
       "      <td>1.400365e+13</td>\n",
       "      <td>1.428727e+13</td>\n",
       "      <td>1.461996e+13</td>\n",
       "      <td>1.502357e+13</td>\n",
       "      <td>1.535810e+13</td>\n",
       "      <td>NaN</td>\n",
       "      <td>NaN</td>\n",
       "    </tr>\n",
       "    <tr>\n",
       "      <th>1441</th>\n",
       "      <td>United States</td>\n",
       "      <td>USA</td>\n",
       "      <td>Industry (including construction), value added...</td>\n",
       "      <td>NV.IND.TOTL.CN</td>\n",
       "      <td>NaN</td>\n",
       "      <td>NaN</td>\n",
       "      <td>NaN</td>\n",
       "      <td>NaN</td>\n",
       "      <td>NaN</td>\n",
       "      <td>NaN</td>\n",
       "      <td>...</td>\n",
       "      <td>3.102696e+12</td>\n",
       "      <td>3.232460e+12</td>\n",
       "      <td>3.387796e+12</td>\n",
       "      <td>3.382203e+12</td>\n",
       "      <td>3.367571e+12</td>\n",
       "      <td>3.566868e+12</td>\n",
       "      <td>3.818929e+12</td>\n",
       "      <td>3.891496e+12</td>\n",
       "      <td>NaN</td>\n",
       "      <td>NaN</td>\n",
       "    </tr>\n",
       "    <tr>\n",
       "      <th>1442</th>\n",
       "      <td>United States</td>\n",
       "      <td>USA</td>\n",
       "      <td>Agriculture, forestry, and fishing, value adde...</td>\n",
       "      <td>NV.AGR.TOTL.CD</td>\n",
       "      <td>NaN</td>\n",
       "      <td>NaN</td>\n",
       "      <td>NaN</td>\n",
       "      <td>NaN</td>\n",
       "      <td>NaN</td>\n",
       "      <td>NaN</td>\n",
       "      <td>...</td>\n",
       "      <td>1.876956e+11</td>\n",
       "      <td>2.238283e+11</td>\n",
       "      <td>2.077970e+11</td>\n",
       "      <td>1.903835e+11</td>\n",
       "      <td>1.769514e+11</td>\n",
       "      <td>1.856204e+11</td>\n",
       "      <td>1.897446e+11</td>\n",
       "      <td>1.965138e+11</td>\n",
       "      <td>NaN</td>\n",
       "      <td>NaN</td>\n",
       "    </tr>\n",
       "  </tbody>\n",
       "</table>\n",
       "<p>1443 rows × 66 columns</p>\n",
       "</div>"
      ],
      "text/plain": [
       "       Country Name Country Code  \\\n",
       "0     United States          USA   \n",
       "1     United States          USA   \n",
       "2     United States          USA   \n",
       "3     United States          USA   \n",
       "4     United States          USA   \n",
       "...             ...          ...   \n",
       "1438  United States          USA   \n",
       "1439  United States          USA   \n",
       "1440  United States          USA   \n",
       "1441  United States          USA   \n",
       "1442  United States          USA   \n",
       "\n",
       "                                         Indicator Name     Indicator Code  \\\n",
       "0     Merchandise exports by the reporting economy (...  TX.VAL.MRCH.WL.CD   \n",
       "1               Fuel exports (% of merchandise exports)  TX.VAL.FUEL.ZS.UN   \n",
       "2     Merchandise imports from low- and middle-incom...  TM.VAL.MRCH.R5.ZS   \n",
       "3                  Import unit value index (2000 = 100)  TM.UVI.MRCH.XD.WD   \n",
       "4                    Binding coverage, all products (%)  TM.TAX.MRCH.BC.ZS   \n",
       "...                                                 ...                ...   \n",
       "1438                 Inflation, GDP deflator (annual %)  NY.GDP.DEFL.KD.ZG   \n",
       "1439  Adjusted savings: natural resources depletion ...  NY.ADJ.DRES.GN.ZS   \n",
       "1440               Services, value added (constant LCU)     NV.SRV.TOTL.KN   \n",
       "1441  Industry (including construction), value added...     NV.IND.TOTL.CN   \n",
       "1442  Agriculture, forestry, and fishing, value adde...     NV.AGR.TOTL.CD   \n",
       "\n",
       "              1960          1961          1962          1963          1964  \\\n",
       "0     2.053500e+10  2.095900e+10  2.161600e+10  2.327500e+10  2.648400e+10   \n",
       "1              NaN           NaN  3.751838e+00  4.125064e+00  3.494185e+00   \n",
       "2     2.189145e+00  2.275933e+00  2.140057e+00  2.296611e+00  2.106731e+00   \n",
       "3              NaN           NaN           NaN           NaN           NaN   \n",
       "4              NaN           NaN           NaN           NaN           NaN   \n",
       "...            ...           ...           ...           ...           ...   \n",
       "1438           NaN  1.350154e+00  1.244635e+00  1.088386e+00  1.503940e+00   \n",
       "1439           NaN           NaN           NaN           NaN           NaN   \n",
       "1440           NaN           NaN           NaN           NaN           NaN   \n",
       "1441           NaN           NaN           NaN           NaN           NaN   \n",
       "1442           NaN           NaN           NaN           NaN           NaN   \n",
       "\n",
       "              1965  ...          2012          2013          2014  \\\n",
       "0     2.737480e+10  ...  1.545800e+12  1.578430e+12  1.620480e+12   \n",
       "1     3.505138e+00  ...  1.006366e+01  1.076399e+01  1.098568e+01   \n",
       "2     2.068704e+00  ...  2.260342e+00  2.356129e+00  2.430121e+00   \n",
       "3              NaN  ...  1.410000e+02  1.395000e+02  1.380000e+02   \n",
       "4              NaN  ...  9.998000e+01  9.998000e+01  9.998000e+01   \n",
       "...            ...  ...           ...           ...           ...   \n",
       "1438  1.919826e+00  ...  1.917849e+00  1.754916e+00  1.849827e+00   \n",
       "1439           NaN  ...  3.346421e-01  3.589476e-01  3.046816e-01   \n",
       "1440           NaN  ...  1.313148e+13  1.327693e+13  1.360718e+13   \n",
       "1441           NaN  ...  3.102696e+12  3.232460e+12  3.387796e+12   \n",
       "1442           NaN  ...  1.876956e+11  2.238283e+11  2.077970e+11   \n",
       "\n",
       "              2015          2016          2017          2018          2019  \\\n",
       "0     1.504570e+12  1.453700e+12  1.545610e+12  1.664240e+12  1.641120e+12   \n",
       "1     8.003418e+00  7.578654e+00  1.051045e+01  1.352999e+01  1.419937e+01   \n",
       "2     2.562576e+00  2.664601e+00  2.598787e+00  2.637101e+00  2.848970e+00   \n",
       "3     1.239000e+02  1.198000e+02  1.233000e+02  1.271000e+02  1.255000e+02   \n",
       "4     9.998000e+01  9.998000e+01  9.998000e+01  9.998000e+01  9.996000e+01   \n",
       "...            ...           ...           ...           ...           ...   \n",
       "1438  9.525315e-01  1.049247e+00  1.880068e+00  2.400981e+00  1.785152e+00   \n",
       "1439  4.525314e-02  1.134923e-01  1.912275e-01  3.756121e-01  3.375916e-01   \n",
       "1440  1.400365e+13  1.428727e+13  1.461996e+13  1.502357e+13  1.535810e+13   \n",
       "1441  3.382203e+12  3.367571e+12  3.566868e+12  3.818929e+12  3.891496e+12   \n",
       "1442  1.903835e+11  1.769514e+11  1.856204e+11  1.897446e+11  1.965138e+11   \n",
       "\n",
       "            2020  Unnamed: 65  \n",
       "0            NaN          NaN  \n",
       "1      12.715991          NaN  \n",
       "2            NaN          NaN  \n",
       "3     122.400000          NaN  \n",
       "4      99.960000          NaN  \n",
       "...          ...          ...  \n",
       "1438    1.205202          NaN  \n",
       "1439         NaN          NaN  \n",
       "1440         NaN          NaN  \n",
       "1441         NaN          NaN  \n",
       "1442         NaN          NaN  \n",
       "\n",
       "[1443 rows x 66 columns]"
      ]
     },
     "execution_count": 3,
     "metadata": {},
     "output_type": "execute_result"
    }
   ],
   "source": [
    "china_df = pd.read_csv('data/china-worldbank-data/china_data.csv',skiprows=3)\n",
    "us_df = pd.read_csv('data/us-worldbank-data/us_data.csv',skiprows=3)\n",
    "russia_df = pd.read_csv('data/russia-worldbank-data/russia_data.csv',skiprows=3)\n",
    "ukraine_df = pd.read_csv('data/ukraine-worldbank-data/ukraine_data.csv',skiprows=3)\n",
    "us_df\n"
   ]
  },
  {
   "cell_type": "markdown",
   "metadata": {},
   "source": [
    "# Use df.iloc[k] to look at the kth row of the data frame"
   ]
  },
  {
   "cell_type": "code",
   "execution_count": 20,
   "metadata": {},
   "outputs": [
    {
     "data": {
      "text/plain": [
       "Country Name                                                  China\n",
       "Country Code                                                    CHN\n",
       "Indicator Name    High-technology exports (% of manufactured exp...\n",
       "Indicator Code                                    TX.VAL.TECH.MF.ZS\n",
       "1960                                                            NaN\n",
       "                                        ...                        \n",
       "2017                                                      30.907239\n",
       "2018                                                      31.467497\n",
       "2019                                                      30.783368\n",
       "2020                                                      31.273907\n",
       "Unnamed: 65                                                     NaN\n",
       "Name: 0, Length: 66, dtype: object"
      ]
     },
     "execution_count": 20,
     "metadata": {},
     "output_type": "execute_result"
    }
   ],
   "source": [
    "row0 = china_df.iloc[0]\n",
    "row0"
   ]
  },
  {
   "cell_type": "code",
   "execution_count": 19,
   "metadata": {},
   "outputs": [
    {
     "name": "stdout",
     "output_type": "stream",
     "text": [
      "Country Name China\n",
      "Country Code CHN\n",
      "Indicator Name High-technology exports (% of manufactured exports)\n",
      "Indicator Code TX.VAL.TECH.MF.ZS\n",
      "1960 nan\n",
      "1961 nan\n",
      "1962 nan\n",
      "1963 nan\n",
      "1964 nan\n",
      "1965 nan\n",
      "1966 nan\n",
      "1967 nan\n",
      "1968 nan\n",
      "1969 nan\n",
      "1970 nan\n",
      "1971 nan\n",
      "1972 nan\n",
      "1973 nan\n",
      "1974 nan\n",
      "1975 nan\n",
      "1976 nan\n",
      "1977 nan\n",
      "1978 nan\n",
      "1979 nan\n",
      "1980 nan\n",
      "1981 nan\n",
      "1982 nan\n",
      "1983 nan\n",
      "1984 nan\n",
      "1985 nan\n",
      "1986 nan\n",
      "1987 nan\n",
      "1988 nan\n",
      "1989 nan\n",
      "1990 nan\n",
      "1991 nan\n",
      "1992 nan\n",
      "1993 nan\n",
      "1994 nan\n",
      "1995 nan\n",
      "1996 nan\n",
      "1997 nan\n",
      "1998 nan\n",
      "1999 nan\n",
      "2000 nan\n",
      "2001 nan\n",
      "2002 nan\n",
      "2003 nan\n",
      "2004 nan\n",
      "2005 nan\n",
      "2006 nan\n",
      "2007 30.1508030213087\n",
      "2008 29.3636570035028\n",
      "2009 31.9377898028598\n",
      "2010 32.1236548502287\n",
      "2011 30.4839311029123\n",
      "2012 30.848683299994\n",
      "2013 31.5743632395886\n",
      "2014 29.6954146727128\n",
      "2015 30.4219448610082\n",
      "2016 30.2426429049046\n",
      "2017 30.9072391001393\n",
      "2018 31.467496755044\n",
      "2019 30.7833679029205\n",
      "2020 31.2739071459962\n",
      "Unnamed: 65 nan\n"
     ]
    }
   ],
   "source": [
    "for key in china_df.columns:\n",
    "    print(key,row0[key])"
   ]
  },
  {
   "cell_type": "markdown",
   "metadata": {},
   "source": [
    "# Search for indicators of interest\n",
    "The following function will return the row number and indicator name for all indicators containing a phrase."
   ]
  },
  {
   "cell_type": "code",
   "execution_count": 5,
   "metadata": {},
   "outputs": [],
   "source": [
    "def find_rows(df,phrase):\n",
    "    for i in range(len(df)):\n",
    "        indicator = df.iloc[i]['Indicator Name']\n",
    "        if phrase in indicator:\n",
    "            print(i,indicator)\n"
   ]
  },
  {
   "cell_type": "markdown",
   "metadata": {},
   "source": [
    "# Comparing CO2 emissions\n",
    "We can now look for worldbank information about CO2 emissions from the various countries"
   ]
  },
  {
   "cell_type": "code",
   "execution_count": 6,
   "metadata": {},
   "outputs": [
    {
     "name": "stdout",
     "output_type": "stream",
     "text": [
      "136 GHG net emissions/removals by LUCF (Mt of CO2 equivalent)\n",
      "138 CO2 emissions from liquid fuel consumption (% of total)\n",
      "314 CO2 emissions (kt)\n",
      "622 CO2 emissions from electricity and heat production, total (% of total fuel combustion)\n",
      "623 Nitrous oxide emissions in energy sector (thousand metric tons of CO2 equivalent)\n",
      "624 CO2 emissions (kg per 2017 PPP $ of GDP)\n",
      "655 Agricultural nitrous oxide emissions (thousand metric tons of CO2 equivalent)\n",
      "656 CO2 emissions (metric tons per capita)\n",
      "691 SF6 gas emissions (thousand metric tons of CO2 equivalent)\n",
      "692 Methane emissions in energy sector (thousand metric tons of CO2 equivalent)\n",
      "693 CO2 emissions (kg per 2015 US$ of GDP)\n",
      "725 Methane emissions (kt of CO2 equivalent)\n",
      "726 CO2 emissions from liquid fuel consumption (kt)\n",
      "814 CO2 emissions from transport (% of total fuel combustion)\n",
      "816 Other greenhouse gas emissions, HFC, PFC and SF6 (thousand metric tons of CO2 equivalent)\n",
      "969 Total greenhouse gas emissions (kt of CO2 equivalent)\n",
      "1115 CO2 emissions from residential buildings and commercial and public services (% of total fuel combustion)\n",
      "1117 CO2 emissions (kg per PPP $ of GDP)\n",
      "1150 Agricultural methane emissions (thousand metric tons of CO2 equivalent)\n",
      "1151 CO2 emissions from gaseous fuel consumption (kt)\n",
      "1184 CO2 emissions from gaseous fuel consumption (% of total)\n",
      "1213 CO2 emissions from manufacturing industries and construction (% of total fuel combustion)\n",
      "1215 CO2 emissions from solid fuel consumption (kt)\n",
      "1303 PFC gas emissions (thousand metric tons of CO2 equivalent)\n",
      "1392 CO2 emissions from other sectors, excluding residential buildings and commercial and public services (% of total fuel combustion)\n",
      "1393 Nitrous oxide emissions (thousand metric tons of CO2 equivalent)\n",
      "1394 CO2 emissions from solid fuel consumption (% of total)\n",
      "1428 HFC gas emissions (thousand metric tons of CO2 equivalent)\n",
      "1429 CO2 intensity (kg per kg of oil equivalent energy use)\n"
     ]
    }
   ],
   "source": [
    "\n",
    "find_rows(china_df,'CO2')"
   ]
  },
  {
   "cell_type": "code",
   "execution_count": 7,
   "metadata": {},
   "outputs": [
    {
     "name": "stdout",
     "output_type": "stream",
     "text": [
      "1375 CO2 emissions (kt)\n"
     ]
    }
   ],
   "source": [
    "find_rows(us_df,'CO2 emissions (kt)')"
   ]
  },
  {
   "cell_type": "code",
   "execution_count": 8,
   "metadata": {},
   "outputs": [
    {
     "name": "stdout",
     "output_type": "stream",
     "text": [
      "1336 CO2 emissions (kt)\n"
     ]
    }
   ],
   "source": [
    "find_rows(russia_df,'CO2 emissions (kt)')"
   ]
  },
  {
   "cell_type": "code",
   "execution_count": 9,
   "metadata": {},
   "outputs": [
    {
     "name": "stdout",
     "output_type": "stream",
     "text": [
      "639 CO2 emissions (kt)\n"
     ]
    }
   ],
   "source": [
    "find_rows(ukraine_df,'CO2 emissions (kt)')"
   ]
  },
  {
   "cell_type": "markdown",
   "metadata": {},
   "source": [
    "# Plot the data\n",
    "Once we know which rows the data appears on we can select out the data for the years from 1960 to 20210 and plot that data!"
   ]
  },
  {
   "cell_type": "code",
   "execution_count": 10,
   "metadata": {},
   "outputs": [
    {
     "data": {
      "image/png": "[encoded data removed]",
      "text/plain": [
       "<Figure size 1080x720 with 1 Axes>"
      ]
     },
     "metadata": {
      "needs_background": "light"
     },
     "output_type": "display_data"
    }
   ],
   "source": [
    "def plot_indicator(df,row,label):\n",
    "    plt.plot(range(1960,2021),df.iloc[row]['1960':'2020'],label=label)\n",
    "plt.figure(figsize=(15,10))\n",
    "plot_indicator(china_df,314,'china')\n",
    "plot_indicator(us_df,1375,'us')\n",
    "plot_indicator(russia_df,1336,'russia')\n",
    "plot_indicator(ukraine_df,639,'ukraine')\n",
    "plt.legend()\n",
    "plt.grid()\n",
    "    "
   ]
  },
  {
   "cell_type": "markdown",
   "metadata": {},
   "source": [
    "# Discussion\n",
    "We see that Russian emissions dropped by half in 1990-91, but that's because the USSR was broken up into a dozen republics!\n",
    "\n",
    "The US and Ukrainian CO2 emissiona are actually going down in the last 20 years, but China rose rapidly from 1990-2010 and then flattened out.\n",
    "\n",
    "We don't know why, we could then look at GDP/person and see if perhaps the rising standard of living in China is what drove that increase."
   ]
  },
  {
   "cell_type": "code",
   "execution_count": null,
   "metadata": {},
   "outputs": [],
   "source": []
  },
  {
   "cell_type": "code",
   "execution_count": 11,
   "metadata": {},
   "outputs": [
    {
     "name": "stdout",
     "output_type": "stream",
     "text": [
      "898 GDP (constant 2015 US$)\n"
     ]
    }
   ],
   "source": [
    "# GDP (constant 2015 US$) \n",
    "# US 898   China 47  Russia 394 Ukraine 701\n",
    "find_rows(us_df,'GDP (constant 2015 US$)')"
   ]
  },
  {
   "cell_type": "code",
   "execution_count": 12,
   "metadata": {},
   "outputs": [
    {
     "data": {
      "text/plain": [
       "Text(0.5, 1.0, 'GDP (constant 2015 US$) ')"
      ]
     },
     "execution_count": 12,
     "metadata": {},
     "output_type": "execute_result"
    },
    {
     "data": {
      "image/png": "[encoded data removed]",
      "text/plain": [
       "<Figure size 1080x720 with 1 Axes>"
      ]
     },
     "metadata": {
      "needs_background": "light"
     },
     "output_type": "display_data"
    }
   ],
   "source": [
    "plt.figure(figsize=(15,10))\n",
    "plot_indicator(us_df,898,'us')\n",
    "plot_indicator(china_df,47,'china')\n",
    "plot_indicator(russia_df,394,'russia')\n",
    "plot_indicator(ukraine_df,701,'ukraine')\n",
    "plt.legend()\n",
    "plt.grid()\n",
    "plt.title(\"GDP (constant 2015 US$) \",fontsize=32)\n"
   ]
  },
  {
   "cell_type": "code",
   "execution_count": 13,
   "metadata": {},
   "outputs": [
    {
     "data": {
      "text/plain": [
       "Country Name                        China\n",
       "Country Code                          CHN\n",
       "Indicator Name    GDP (constant 2015 US$)\n",
       "Indicator Code             NY.GDP.MKTP.KD\n",
       "1960                  158907168211.118011\n",
       "                           ...           \n",
       "2017                     12640231416523.5\n",
       "2018                     13493418449040.5\n",
       "2019                14296238286985.099609\n",
       "2020                14631844421164.199219\n",
       "Unnamed: 65                           NaN\n",
       "Name: 47, Length: 66, dtype: object"
      ]
     },
     "execution_count": 13,
     "metadata": {},
     "output_type": "execute_result"
    }
   ],
   "source": [
    "china_df.iloc[47]"
   ]
  },
  {
   "cell_type": "code",
   "execution_count": null,
   "metadata": {},
   "outputs": [],
   "source": []
  }
 ],
 "metadata": {
  "kernelspec": {
   "display_name": "Python 3",
   "language": "python",
   "name": "python3"
  },
  "language_info": {
   "codemirror_mode": {
    "name": "ipython",
    "version": 3
   },
   "file_extension": ".py",
   "mimetype": "text/x-python",
   "name": "python",
   "nbconvert_exporter": "python",
   "pygments_lexer": "ipython3",
   "version": "3.8.5"
  }
 },
 "nbformat": 4,
 "nbformat_minor": 4
}
