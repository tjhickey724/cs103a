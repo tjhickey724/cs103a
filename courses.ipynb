{
 "cells": [
  {
   "cell_type": "markdown",
   "metadata": {},
   "source": [
    "# Course Data Analysis using Python and matplotlib.pyplot\n",
    "Here we show how to do some analysis of Brandeis course data from 2004 to 2021 using matplotlib.pyplt to plot the results.\n",
    "\n",
    "References:\n",
    "https://matplotlib.org/stable/tutorials/introductory/usage.html#sphx-glr-tutorials-introductory-usage-py\n",
    "\n",
    "We import the Python class Courses (from courses.py) which stores the course data in a Python object\n",
    "and has methods to pull out interesting data. In this notebook, we use matplotlib to plot some of the data"
   ]
  },
  {
   "cell_type": "code",
   "execution_count": 1,
   "metadata": {},
   "outputs": [],
   "source": [
    "import matplotlib.pyplot as plt\n",
    "from schedule import Schedule"
   ]
  },
  {
   "cell_type": "code",
   "execution_count": 2,
   "metadata": {},
   "outputs": [
    {
     "data": {
      "text/plain": [
       "35206"
      ]
     },
     "execution_count": 2,
     "metadata": {},
     "output_type": "execute_result"
    }
   ],
   "source": [
    "schedule = Schedule()\n",
    "len(schedule.courses)\n"
   ]
  },
  {
   "cell_type": "code",
   "execution_count": 3,
   "metadata": {},
   "outputs": [
    {
     "data": {
      "text/plain": [
       "[273,\n",
       " 281,\n",
       " 6,\n",
       " 213,\n",
       " 284,\n",
       " 8,\n",
       " 285,\n",
       " 210,\n",
       " 15,\n",
       " 253,\n",
       " 216,\n",
       " 9,\n",
       " 246,\n",
       " 288,\n",
       " 11,\n",
       " 369,\n",
       " 316,\n",
       " 37,\n",
       " 283,\n",
       " 384,\n",
       " 42,\n",
       " 444,\n",
       " 583,\n",
       " 47,\n",
       " 530,\n",
       " 560,\n",
       " 64,\n",
       " 779,\n",
       " 542,\n",
       " 98,\n",
       " 893,\n",
       " 1007,\n",
       " 85,\n",
       " 1023,\n",
       " 691,\n",
       " 106,\n",
       " 1087,\n",
       " 905,\n",
       " 101,\n",
       " 911,\n",
       " 871,\n",
       " 79,\n",
       " 1096,\n",
       " 1088,\n",
       " 94,\n",
       " 1122,\n",
       " 1015,\n",
       " 167,\n",
       " 1080,\n",
       " 918,\n",
       " 38]"
      ]
     },
     "execution_count": 3,
     "metadata": {},
     "output_type": "execute_result"
    }
   ],
   "source": [
    "schedule.plot_enrolled_by_condition(lambda x: x['subj']=='COSI')"
   ]
  },
  {
   "cell_type": "code",
   "execution_count": null,
   "metadata": {},
   "outputs": [],
   "source": []
  },
  {
   "cell_type": "code",
   "execution_count": null,
   "metadata": {},
   "outputs": [],
   "source": []
  }
 ],
 "metadata": {
  "kernelspec": {
   "display_name": "Python 3",
   "language": "python",
   "name": "python3"
  },
  "language_info": {
   "codemirror_mode": {
    "name": "ipython",
    "version": 3
   },
   "file_extension": ".py",
   "mimetype": "text/x-python",
   "name": "python",
   "nbconvert_exporter": "python",
   "pygments_lexer": "ipython3",
   "version": "3.8.5"
  }
 },
 "nbformat": 4,
 "nbformat_minor": 4
}
