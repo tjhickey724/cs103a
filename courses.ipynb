{
 "cells": [
  {
   "cell_type": "markdown",
   "metadata": {},
   "source": [
    "# Course Data Analysis using Python and matplotlib.pyplot\n",
    "Here we show how to do some analysis of Brandeis course data from 2004 to 2021 using matplotlib.pyplt to plot the results.\n",
    "\n",
    "References:\n",
    "https://matplotlib.org/stable/tutorials/introductory/usage.html#sphx-glr-tutorials-introductory-usage-py\n",
    "\n",
    "We import the Python class Courses (from courses.py) which stores the course data in a Python object\n",
    "and has methods to pull out interesting data. In this notebook, we use matplotlib to plot some of the data"
   ]
  },
  {
   "cell_type": "code",
   "execution_count": null,
   "metadata": {},
   "outputs": [],
   "source": [
    "import matplotlib.pyplot as plt\n",
    "from schedule import Schedule"
   ]
  },
  {
   "cell_type": "code",
   "execution_count": null,
   "metadata": {},
   "outputs": [],
   "source": [
    "schedule = Schedule()\n",
    "len(schedule.courses)\n"
   ]
  },
  {
   "cell_type": "code",
   "execution_count": null,
   "metadata": {},
   "outputs": [],
   "source": [
    "plt.figure(figsize=(20,15))\n",
    "plt.plot(schedule.years0,schedule.enrolled_by_years_and_condition(lambda c: c['subj'] in 'COSI'),label='COSI')\n",
    "plt.grid()\n",
    "plt.axis([2004,2022,0,3000])"
   ]
  },
  {
   "cell_type": "code",
   "execution_count": null,
   "metadata": {},
   "outputs": [],
   "source": [
    "schedule.years"
   ]
  },
  {
   "cell_type": "code",
   "execution_count": null,
   "metadata": {},
   "outputs": [],
   "source": [
    "schedule.enrolled_in_year_by_condition(lambda c: c['subj']=='COSI','2020-21')"
   ]
  },
  {
   "cell_type": "code",
   "execution_count": null,
   "metadata": {},
   "outputs": [],
   "source": [
    "condition = lambda c: c['subj']=='COSI'\n",
    "year = \"2021-22\"\n",
    "[(c['num'],c['enr'],c['code']) for c in schedule.courses if schedule.code_to_academic_year(c['code'])==year and condition(c)]\n"
   ]
  },
  {
   "cell_type": "code",
   "execution_count": null,
   "metadata": {},
   "outputs": [],
   "source": [
    "schedule.code_to_academic_year('1201')"
   ]
  },
  {
   "cell_type": "code",
   "execution_count": null,
   "metadata": {},
   "outputs": [],
   "source": []
  }
 ],
 "metadata": {
  "kernelspec": {
   "display_name": "Python 3",
   "language": "python",
   "name": "python3"
  },
  "language_info": {
   "codemirror_mode": {
    "name": "ipython",
    "version": 3
   },
   "file_extension": ".py",
   "mimetype": "text/x-python",
   "name": "python",
   "nbconvert_exporter": "python",
   "pygments_lexer": "ipython3",
   "version": "3.8.5"
  }
 },
 "nbformat": 4,
 "nbformat_minor": 4
}
