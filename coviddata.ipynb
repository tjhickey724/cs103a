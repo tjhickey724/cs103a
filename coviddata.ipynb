{
 "cells": [
  {
   "cell_type": "markdown",
   "metadata": {},
   "source": [
    "# COVID data"
   ]
  },
  {
   "cell_type": "code",
   "execution_count": 1,
   "metadata": {},
   "outputs": [],
   "source": [
    "import csv\n",
    "import matplotlib.pyplot as plt"
   ]
  },
  {
   "cell_type": "code",
   "execution_count": 3,
   "metadata": {},
   "outputs": [
    {
     "name": "stdout",
     "output_type": "stream",
     "text": [
      "12068\n"
     ]
    },
    {
     "data": {
      "text/plain": [
       "{'Date': '02/16/2022',\n",
       " 'Demographic_category': 'Race_eth_NHNHOPI',\n",
       " 'Administered_Dose1': '594,959',\n",
       " 'Administered_Dose1_pct_known': '0.3',\n",
       " 'Administered_Dose1_pct_US': '0.2',\n",
       " 'Series_Complete_Yes': '533,632',\n",
       " 'Administered_Dose1_pct_agegroup': '64.1',\n",
       " 'Series_Complete_Pop_pct_agegroup': '57.5',\n",
       " 'Series_Complete_Pop_Pct_known': '0.3',\n",
       " 'Series_Complete_Pop_Pct_US': '0.2',\n",
       " 'Booster_Doses_Vax_pct_agegroup': '40.7',\n",
       " 'Booster_Doses_Pop_Pct_known': '0.3',\n",
       " 'Booster_Doses_Vax_Pct_US': '0.3',\n",
       " 'Booster_Doses_Pop_Pct_known_Last14Days': '0.4',\n",
       " 'Booster_Doses_Yes': '206,970',\n",
       " 'Booster_Doses_Yes_Last14Days': '7,562'}"
      ]
     },
     "execution_count": 3,
     "metadata": {},
     "output_type": "execute_result"
    }
   ],
   "source": [
    "with open(\"Covid-19_Vaccination.csv\",'r',encoding='utf-8') as csvfile:\n",
    "    reader = csv.DictReader(csvfile)\n",
    "    data = [row for row in reader]\n",
    "    csvfile.close()\n",
    "print(len(data))\n",
    "data[0]"
   ]
  },
  {
   "cell_type": "code",
   "execution_count": 8,
   "metadata": {},
   "outputs": [
    {
     "name": "stdout",
     "output_type": "stream",
     "text": [
      "123456890.0\n"
     ]
    }
   ],
   "source": [
    "dates = [d['Date'] for d in data]\n",
    "def toFloat(numstr):\n",
    "    return float(\"\".join([c for c in numstr if c!= ',']))\n",
    "print(toFloat(\"123,456,,,,890\"))\n",
    "dose1 = [toFloat(d['Administered_Dose1']) for d in data]\n"
   ]
  },
  {
   "cell_type": "code",
   "execution_count": 10,
   "metadata": {},
   "outputs": [
    {
     "data": {
      "text/plain": [
       "[<matplotlib.lines.Line2D at 0x7fa54858a760>]"
      ]
     },
     "execution_count": 10,
     "metadata": {},
     "output_type": "execute_result"
    },
    {
     "data": {
      "image/png": "[encoded data removed]",
      "text/plain": [
       "<Figure size 432x288 with 1 Axes>"
      ]
     },
     "metadata": {
      "needs_background": "light"
     },
     "output_type": "display_data"
    }
   ],
   "source": [
    "plt.plot(dates,dose1)"
   ]
  },
  {
   "cell_type": "code",
   "execution_count": null,
   "metadata": {},
   "outputs": [],
   "source": []
  }
 ],
 "metadata": {
  "kernelspec": {
   "display_name": "Python 3",
   "language": "python",
   "name": "python3"
  },
  "language_info": {
   "codemirror_mode": {
    "name": "ipython",
    "version": 3
   },
   "file_extension": ".py",
   "mimetype": "text/x-python",
   "name": "python",
   "nbconvert_exporter": "python",
   "pygments_lexer": "ipython3",
   "version": "3.8.5"
  }
 },
 "nbformat": 4,
 "nbformat_minor": 4
}
